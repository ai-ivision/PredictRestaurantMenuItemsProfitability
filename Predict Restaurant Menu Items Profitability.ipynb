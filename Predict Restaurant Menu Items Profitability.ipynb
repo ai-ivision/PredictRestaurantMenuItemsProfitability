{
 "cells": [
  {
   "cell_type": "markdown",
   "metadata": {},
   "source": [
    "\n",
    "# **Predict Restaurant Menu Items Profitability**\n",
    "\n",
    "[!Restaurant Menu Items Profitability](./Designer.png)\n",
    "\n",
    "## **Background:**\n",
    "In the highly competitive restaurant industry, understanding the profitability of menu items is crucial for maintaining a successful business. Profitability can be influenced by various factors such as the ingredients used, the price of the item, the restaurant category, and customer preferences. Efficiently predicting which menu items are likely to be more profitable can help restaurant managers make informed decisions about menu design, pricing strategies, and inventory management.\n",
    "\n",
    "## **Objective:**\n",
    "The objective of this project is to develop a predictive model that can classify the profitability of restaurant menu items into categories such as **Low, Medium, and High**. This model will leverage historical data on menu items, including their prices, ingredients, and other relevant attributes, to make accurate profitability predictions.\n",
    "\n",
    "## **Data:**\n",
    "The dataset consists of 1000 entries, each representing a menu item from various restaurants. The features of the dataset are as follows:\n",
    "- **RestaurantID**: Unique identifier for the restaurant.\n",
    "- **MenuCategory**: Category of the menu item (e.g., Appetizers, Main Course, Desserts).\n",
    "- **MenuItem**: Name of the menu item.\n",
    "- **Ingredients**: List of ingredients used in the menu item.\n",
    "- **Price**: Price of the menu item.\n",
    "- **Profitability**: Profitability category of the menu item (Low, Medium, High).\n",
    "\n",
    "## **Tasks:**\n",
    "\n",
    "### **1. Data Exploration and Preprocessing:**\n",
    "- Conduct exploratory data analysis (EDA) to understand the distribution and relationships within the data.\n",
    "- Handle missing values, if any, and encode categorical features appropriately.\n",
    "- Engineer new features that may help in improving the model's performance, such as the number of ingredients used or specific ingredient indicators.\n",
    "\n",
    "### **2. Model Development:**\n",
    "- Develop several machine learning models (e.g., RandomForestClassifier, DecisionTreeClassifier, XGBClassifier) to predict the profitability of menu items.\n",
    "- Perform hyperparameter tuning using GridSearchCV to find the best parameters for each model.\n",
    "\n",
    "### **3. Model Evaluation:**\n",
    "- Evaluate the performance of each model using metrics such as accuracy and F1 score.\n",
    "- Compare the models and select the best-performing one based on the evaluation metrics.\n",
    "\n",
    "### **4. Deep Learning Model:**\n",
    "- Develop a Deep Neural Network (DNN) model with multiple layers to predict profitability.\n",
    "- Train and evaluate the DNN model, and compare its performance with traditional machine learning models.\n",
    "\n",
    "### **5. Model Saving and Deployment:**\n",
    "- Save the best models (with accuracy greater than 80%) in the `models` directory for future use.\n",
    "- Document the model training and evaluation process, and provide recommendations for deploying the model in a production environment.\n",
    "\n",
    "## **Expected Outcome:**\n",
    "By the end of this project, we aim to have a robust predictive model that accurately classifies the profitability of restaurant menu items. This model can be used by restaurant managers to optimize their menus, set competitive prices, and ultimately enhance their profitability.\n",
    "\n",
    "## **Impact:**\n",
    "The implementation of this predictive model will enable restaurants to make data-driven decisions, leading to improved financial performance and customer satisfaction. By understanding which menu items are more profitable, restaurants can focus on promoting and improving these items, thereby maximizing their overall profitability.\n",
    "\n",
    "## **Acknowledgements:**\n",
    "We would like to extend our gratitude to the following resources and tools, which made this project possible:\n",
    "\n",
    "- **[TensorFlow](https://www.tensorflow.org/)**: For providing a robust framework for developing and training deep learning models.\n",
    "- **[Scikit-learn (sklearn)](https://scikit-learn.org/stable/)**: For offering comprehensive tools for data analysis, preprocessing, and machine learning.\n",
    "- **[Keras](https://keras.io/)**: For its easy-to-use API that facilitated the creation and training of our deep neural network models.\n",
    "- **[Kaggle](https://www.kaggle.com/datasets/rabieelkharoua/predict-restaurant-menu-items-profitability)**: For providing the dataset that was crucial for training and evaluating our models.\n",
    "\n",
    "Their contributions have been invaluable in achieving the objectives of this project.\n"
   ]
  },
  {
   "attachments": {},
   "cell_type": "markdown",
   "metadata": {
    "datalore": {
     "hide_input_from_viewers": false,
     "hide_output_from_viewers": false,
     "node_id": "4iBwHLnuB0AkmUWduRhYCN",
     "report_properties": {
      "relativeY": 0,
      "rowId": "8hf9X8yV2OHEsOsLZ1pJYl"
     },
     "type": "MD"
    }
   },
   "source": [
    "## Importing Libraries"
   ]
  },
  {
   "cell_type": "code",
   "execution_count": 88,
   "metadata": {
    "datalore": {
     "hide_input_from_viewers": false,
     "hide_output_from_viewers": false,
     "node_id": "vl3ZbiRLrmembZOhyxfiUp",
     "report_properties": {
      "relativeY": 0,
      "rowId": "pmNPnAls3Rx3HiHtTzi5Wl"
     },
     "type": "CODE"
    }
   },
   "outputs": [],
   "source": [
    "import warnings\n",
    "warnings.filterwarnings(\"ignore\")\n",
    "\n",
    "import numpy as np\n",
    "import pandas as pd\n",
    "import matplotlib.pyplot as plt\n",
    "import seaborn as sns\n",
    "\n",
    "from sklearn.model_selection import train_test_split, cross_val_score, GridSearchCV\n",
    "from sklearn.preprocessing import LabelEncoder, StandardScaler\n",
    "from sklearn.tree import DecisionTreeClassifier\n",
    "from sklearn.ensemble import RandomForestClassifier\n",
    "from sklearn.metrics import accuracy_score, confusion_matrix, classification_report, f1_score\n",
    "\n",
    "from xgboost import XGBClassifier\n",
    "\n",
    "import tensorflow as tf\n",
    "from tensorflow.keras.utils import to_categorical\n",
    "from tensorflow.keras.models import Sequential\n",
    "from tensorflow.keras.layers import Dense, Dropout, BatchNormalization\n",
    "from tensorflow.keras.callbacks import EarlyStopping, ModelCheckpoint, LearningRateScheduler\n",
    "\n",
    "import pickle"
   ]
  },
  {
   "attachments": {},
   "cell_type": "markdown",
   "metadata": {
    "datalore": {
     "hide_input_from_viewers": false,
     "hide_output_from_viewers": false,
     "node_id": "p0nYcD17bOmcJPny7v90mF",
     "report_properties": {
      "relativeY": 0,
      "rowId": "ZPegmwf4IxbqckOaWY1nxw"
     },
     "type": "MD"
    }
   },
   "source": [
    "## Load and EDA"
   ]
  },
  {
   "cell_type": "code",
   "execution_count": 89,
   "metadata": {
    "datalore": {
     "hide_input_from_viewers": false,
     "hide_output_from_viewers": false,
     "node_id": "IEHwa5eU5lTYRv43qMxgqv",
     "report_properties": {
      "relativeY": 0,
      "rowId": "On8BsFZxJbl3XkOBCK1DtF"
     },
     "type": "CODE"
    }
   },
   "outputs": [],
   "source": [
    "dataset = pd.read_csv(\"./Data/restaurant_menu_optimization_data.csv\")"
   ]
  },
  {
   "cell_type": "code",
   "execution_count": 90,
   "metadata": {
    "datalore": {
     "hide_input_from_viewers": false,
     "hide_output_from_viewers": false,
     "node_id": "nZmSYQ1AkpbFtLXSJlLS38",
     "report_properties": {
      "relativeY": 0,
      "rowId": "WbLM2nI5TIleNaxuLsXyJz"
     },
     "type": "CODE"
    }
   },
   "outputs": [
    {
     "data": {
      "text/plain": [
       "(1000, 6)"
      ]
     },
     "execution_count": 90,
     "metadata": {},
     "output_type": "execute_result"
    }
   ],
   "source": [
    "dataset.shape"
   ]
  },
  {
   "cell_type": "code",
   "execution_count": 91,
   "metadata": {
    "datalore": {
     "hide_input_from_viewers": false,
     "hide_output_from_viewers": false,
     "node_id": "4shd3QDdeFfS1gyNp51PCL",
     "report_properties": {
      "relativeY": 0,
      "rowId": "80796LaZsye8QfIENeL8hP"
     },
     "type": "CODE"
    }
   },
   "outputs": [
    {
     "data": {
      "text/html": [
       "<div>\n",
       "<style scoped>\n",
       "    .dataframe tbody tr th:only-of-type {\n",
       "        vertical-align: middle;\n",
       "    }\n",
       "\n",
       "    .dataframe tbody tr th {\n",
       "        vertical-align: top;\n",
       "    }\n",
       "\n",
       "    .dataframe thead th {\n",
       "        text-align: right;\n",
       "    }\n",
       "</style>\n",
       "<table border=\"1\" class=\"dataframe\">\n",
       "  <thead>\n",
       "    <tr style=\"text-align: right;\">\n",
       "      <th></th>\n",
       "      <th>RestaurantID</th>\n",
       "      <th>MenuCategory</th>\n",
       "      <th>MenuItem</th>\n",
       "      <th>Ingredients</th>\n",
       "      <th>Price</th>\n",
       "      <th>Profitability</th>\n",
       "    </tr>\n",
       "  </thead>\n",
       "  <tbody>\n",
       "    <tr>\n",
       "      <th>0</th>\n",
       "      <td>R003</td>\n",
       "      <td>Beverages</td>\n",
       "      <td>Soda</td>\n",
       "      <td>['confidential']</td>\n",
       "      <td>2.55</td>\n",
       "      <td>Low</td>\n",
       "    </tr>\n",
       "    <tr>\n",
       "      <th>1</th>\n",
       "      <td>R001</td>\n",
       "      <td>Appetizers</td>\n",
       "      <td>Spinach Artichoke Dip</td>\n",
       "      <td>['Tomatoes', 'Basil', 'Garlic', 'Olive Oil']</td>\n",
       "      <td>11.12</td>\n",
       "      <td>Medium</td>\n",
       "    </tr>\n",
       "    <tr>\n",
       "      <th>2</th>\n",
       "      <td>R003</td>\n",
       "      <td>Desserts</td>\n",
       "      <td>New York Cheesecake</td>\n",
       "      <td>['Chocolate', 'Butter', 'Sugar', 'Eggs']</td>\n",
       "      <td>18.66</td>\n",
       "      <td>High</td>\n",
       "    </tr>\n",
       "    <tr>\n",
       "      <th>3</th>\n",
       "      <td>R003</td>\n",
       "      <td>Main Course</td>\n",
       "      <td>Chicken Alfredo</td>\n",
       "      <td>['Chicken', 'Fettuccine', 'Alfredo Sauce', 'Pa...</td>\n",
       "      <td>29.55</td>\n",
       "      <td>High</td>\n",
       "    </tr>\n",
       "    <tr>\n",
       "      <th>4</th>\n",
       "      <td>R002</td>\n",
       "      <td>Main Course</td>\n",
       "      <td>Grilled Steak</td>\n",
       "      <td>['Chicken', 'Fettuccine', 'Alfredo Sauce', 'Pa...</td>\n",
       "      <td>17.73</td>\n",
       "      <td>Medium</td>\n",
       "    </tr>\n",
       "  </tbody>\n",
       "</table>\n",
       "</div>"
      ],
      "text/plain": [
       "  RestaurantID MenuCategory               MenuItem  \\\n",
       "0         R003    Beverages                   Soda   \n",
       "1         R001   Appetizers  Spinach Artichoke Dip   \n",
       "2         R003     Desserts    New York Cheesecake   \n",
       "3         R003  Main Course        Chicken Alfredo   \n",
       "4         R002  Main Course          Grilled Steak   \n",
       "\n",
       "                                         Ingredients  Price Profitability  \n",
       "0                                   ['confidential']   2.55           Low  \n",
       "1       ['Tomatoes', 'Basil', 'Garlic', 'Olive Oil']  11.12        Medium  \n",
       "2           ['Chocolate', 'Butter', 'Sugar', 'Eggs']  18.66          High  \n",
       "3  ['Chicken', 'Fettuccine', 'Alfredo Sauce', 'Pa...  29.55          High  \n",
       "4  ['Chicken', 'Fettuccine', 'Alfredo Sauce', 'Pa...  17.73        Medium  "
      ]
     },
     "execution_count": 91,
     "metadata": {},
     "output_type": "execute_result"
    }
   ],
   "source": [
    "dataset.head()"
   ]
  },
  {
   "cell_type": "code",
   "execution_count": 93,
   "metadata": {
    "datalore": {
     "hide_input_from_viewers": false,
     "hide_output_from_viewers": false,
     "node_id": "uTGxOOMl3FnGGRgSphw2wt",
     "report_properties": {
      "relativeY": 0,
      "rowId": "hTu8oljD5sb8DP6ArDR0eF"
     },
     "type": "CODE"
    }
   },
   "outputs": [
    {
     "name": "stdout",
     "output_type": "stream",
     "text": [
      "<class 'pandas.core.frame.DataFrame'>\n",
      "RangeIndex: 1000 entries, 0 to 999\n",
      "Data columns (total 6 columns):\n",
      " #   Column         Non-Null Count  Dtype  \n",
      "---  ------         --------------  -----  \n",
      " 0   RestaurantID   1000 non-null   object \n",
      " 1   MenuCategory   1000 non-null   object \n",
      " 2   MenuItem       1000 non-null   object \n",
      " 3   Ingredients    1000 non-null   object \n",
      " 4   Price          1000 non-null   float64\n",
      " 5   Profitability  1000 non-null   object \n",
      "dtypes: float64(1), object(5)\n",
      "memory usage: 47.0+ KB\n"
     ]
    }
   ],
   "source": [
    "dataset.info()"
   ]
  },
  {
   "cell_type": "code",
   "execution_count": 94,
   "metadata": {
    "datalore": {
     "hide_input_from_viewers": false,
     "hide_output_from_viewers": false,
     "node_id": "fYjmGcDt6DabtEzQ1LtzKw",
     "report_properties": {
      "relativeY": 0,
      "rowId": "oL6IfILlvWQCSZSuqZ45rm"
     },
     "type": "CODE"
    }
   },
   "outputs": [
    {
     "data": {
      "text/plain": [
       "RestaurantID     0\n",
       "MenuCategory     0\n",
       "MenuItem         0\n",
       "Ingredients      0\n",
       "Price            0\n",
       "Profitability    0\n",
       "dtype: int64"
      ]
     },
     "execution_count": 94,
     "metadata": {},
     "output_type": "execute_result"
    }
   ],
   "source": [
    "dataset.isnull().sum()"
   ]
  },
  {
   "cell_type": "code",
   "execution_count": 95,
   "metadata": {
    "datalore": {
     "hide_input_from_viewers": false,
     "hide_output_from_viewers": false,
     "node_id": "Id7y0af1DHC5dxpfqa4WIs",
     "report_properties": {
      "relativeY": 0,
      "rowId": "ZqYJqfsJOh9r5WLV9X23Q9"
     },
     "type": "CODE"
    }
   },
   "outputs": [
    {
     "data": {
      "image/png": "[encoded data removed]",
      "text/plain": [
       "<Figure size 640x480 with 1 Axes>"
      ]
     },
     "metadata": {},
     "output_type": "display_data"
    }
   ],
   "source": [
    "# Analyze the distribution of the target variable (Profitability).\n",
    "sns.countplot(x='Profitability', data=dataset)\n",
    "plt.show()"
   ]
  },
  {
   "cell_type": "code",
   "execution_count": 96,
   "metadata": {
    "datalore": {
     "hide_input_from_viewers": false,
     "hide_output_from_viewers": false,
     "node_id": "b1SCsg6Ul9ByT7zNpbGnec",
     "report_properties": {
      "relativeY": 0,
      "rowId": "pG6xeVJ0K7HJluKICKLHUu"
     },
     "type": "CODE"
    }
   },
   "outputs": [
    {
     "data": {
      "text/plain": [
       "Profitability\n",
       "Medium    495\n",
       "High      386\n",
       "Low       119\n",
       "Name: count, dtype: int64"
      ]
     },
     "execution_count": 96,
     "metadata": {},
     "output_type": "execute_result"
    }
   ],
   "source": [
    "dataset['Profitability'].value_counts()"
   ]
  },
  {
   "cell_type": "code",
   "execution_count": 97,
   "metadata": {},
   "outputs": [
    {
     "data": {
      "text/plain": [
       "MenuCategory\n",
       "Beverages      264\n",
       "Desserts       256\n",
       "Appetizers     254\n",
       "Main Course    226\n",
       "Name: count, dtype: int64"
      ]
     },
     "execution_count": 97,
     "metadata": {},
     "output_type": "execute_result"
    }
   ],
   "source": [
    "dataset['MenuCategory'].value_counts()"
   ]
  },
  {
   "cell_type": "code",
   "execution_count": 98,
   "metadata": {},
   "outputs": [
    {
     "data": {
      "text/plain": [
       "MenuItem\n",
       "Iced Tea                 72\n",
       "New York Cheesecake      71\n",
       "Tiramisu                 70\n",
       "Soda                     69\n",
       "Caprese Salad            67\n",
       "Coffee                   66\n",
       "Vegetable Stir-Fry       66\n",
       "Spinach Artichoke Dip    64\n",
       "Bruschetta               64\n",
       "Fruit Tart               60\n",
       "Stuffed Mushrooms        59\n",
       "Lemonade                 57\n",
       "Grilled Steak            55\n",
       "Chocolate Lava Cake      55\n",
       "Shrimp Scampi            55\n",
       "Chicken Alfredo          50\n",
       "Name: count, dtype: int64"
      ]
     },
     "execution_count": 98,
     "metadata": {},
     "output_type": "execute_result"
    }
   ],
   "source": [
    "dataset['MenuItem'].value_counts()"
   ]
  },
  {
   "cell_type": "code",
   "execution_count": 99,
   "metadata": {
    "datalore": {
     "hide_input_from_viewers": false,
     "hide_output_from_viewers": false,
     "node_id": "dMvlCEa0Piv0sfCdWVe0VQ",
     "report_properties": {
      "relativeY": 0,
      "rowId": "ds4N1tZ9kBK9f3j1WsTQMU"
     },
     "type": "CODE"
    }
   },
   "outputs": [
    {
     "name": "stdout",
     "output_type": "stream",
     "text": [
      "The Value Counts for MenuCategory  :   \n",
      "MenuCategory\n",
      "Beverages      264\n",
      "Desserts       256\n",
      "Appetizers     254\n",
      "Main Course    226\n",
      "Name: count, dtype: int64\n",
      "\n",
      "---------------------------------------------------------------------------\n"
     ]
    },
    {
     "data": {
      "image/png": "[encoded data removed]",
      "text/plain": [
       "<Figure size 640x480 with 1 Axes>"
      ]
     },
     "metadata": {},
     "output_type": "display_data"
    },
    {
     "name": "stdout",
     "output_type": "stream",
     "text": [
      "The Value Counts for MenuItem  :   \n",
      "MenuItem\n",
      "Iced Tea                 72\n",
      "New York Cheesecake      71\n",
      "Tiramisu                 70\n",
      "Soda                     69\n",
      "Caprese Salad            67\n",
      "Coffee                   66\n",
      "Vegetable Stir-Fry       66\n",
      "Spinach Artichoke Dip    64\n",
      "Bruschetta               64\n",
      "Fruit Tart               60\n",
      "Stuffed Mushrooms        59\n",
      "Lemonade                 57\n",
      "Grilled Steak            55\n",
      "Chocolate Lava Cake      55\n",
      "Shrimp Scampi            55\n",
      "Chicken Alfredo          50\n",
      "Name: count, dtype: int64\n",
      "\n",
      "---------------------------------------------------------------------------\n"
     ]
    },
    {
     "data": {
      "image/png": "[encoded data removed]",
      "text/plain": [
       "<Figure size 640x480 with 1 Axes>"
      ]
     },
     "metadata": {},
     "output_type": "display_data"
    }
   ],
   "source": [
    "for col in ['MenuCategory', 'MenuItem']:\n",
    "    print(f\"The Value Counts for {col}  :   \\n{dataset[col].value_counts(())}\\n\")\n",
    "    print(f\"-\"*75)\n",
    "    sns.countplot(x=col, data=dataset)\n",
    "    plt.show()"
   ]
  },
  {
   "cell_type": "code",
   "execution_count": 100,
   "metadata": {
    "datalore": {
     "hide_input_from_viewers": false,
     "hide_output_from_viewers": false,
     "node_id": "HQe0HwvBEtFV8F3RKFX4c4",
     "report_properties": {
      "relativeY": 0,
      "rowId": "ybO0D4WK5pLPsE9UNdFEP1"
     },
     "type": "CODE"
    }
   },
   "outputs": [
    {
     "data": {
      "image/png": "[encoded data removed]",
      "text/plain": [
       "<Figure size 640x480 with 1 Axes>"
      ]
     },
     "metadata": {},
     "output_type": "display_data"
    }
   ],
   "source": [
    "sns.histplot(dataset['Price'], kde=True)\n",
    "plt.show()"
   ]
  },
  {
   "cell_type": "code",
   "execution_count": 101,
   "metadata": {
    "datalore": {
     "hide_input_from_viewers": false,
     "hide_output_from_viewers": false,
     "node_id": "iazpr7DrMkfg9U7cvSxSrn",
     "report_properties": {
      "relativeY": 0,
      "rowId": "N1QUZDceXKLLWlH1QSe56L"
     },
     "type": "CODE"
    }
   },
   "outputs": [],
   "source": [
    "cat_cols = [x for x in dataset.columns if dataset[x].dtypes == 'object']\n",
    "cat_cols.remove('Profitability')"
   ]
  },
  {
   "cell_type": "code",
   "execution_count": 102,
   "metadata": {
    "datalore": {
     "hide_input_from_viewers": false,
     "hide_output_from_viewers": false,
     "node_id": "Hv3723B9cxqTkrNYzKf4Vl",
     "report_properties": {
      "relativeY": 0,
      "rowId": "yCJrYu521hHwFiXl12v0md"
     },
     "type": "CODE"
    }
   },
   "outputs": [
    {
     "data": {
      "text/plain": [
       "['RestaurantID', 'MenuCategory', 'MenuItem', 'Ingredients']"
      ]
     },
     "execution_count": 102,
     "metadata": {},
     "output_type": "execute_result"
    }
   ],
   "source": [
    "cat_cols"
   ]
  },
  {
   "cell_type": "code",
   "execution_count": 103,
   "metadata": {
    "datalore": {
     "hide_input_from_viewers": false,
     "hide_output_from_viewers": false,
     "node_id": "Om7eICXHaAbJxhKlnFXwHZ",
     "report_properties": {
      "relativeY": 0,
      "rowId": "4wr6mPInyXQHE14f872hqD"
     },
     "type": "CODE"
    }
   },
   "outputs": [
    {
     "data": {
      "image/png": "[encoded data removed]",
      "text/plain": [
       "<Figure size 1000x600 with 2 Axes>"
      ]
     },
     "metadata": {},
     "output_type": "display_data"
    },
    {
     "data": {
      "image/png": "[encoded data removed]",
      "text/plain": [
       "<Figure size 1000x600 with 2 Axes>"
      ]
     },
     "metadata": {},
     "output_type": "display_data"
    },
    {
     "data": {
      "image/png": "[encoded data removed]",
      "text/plain": [
       "<Figure size 1000x600 with 2 Axes>"
      ]
     },
     "metadata": {},
     "output_type": "display_data"
    },
    {
     "data": {
      "image/png": "[encoded data removed]",
      "text/plain": [
       "<Figure size 1000x600 with 2 Axes>"
      ]
     },
     "metadata": {},
     "output_type": "display_data"
    }
   ],
   "source": [
    "for col in cat_cols:\n",
    "    contgnc_tbl = pd.crosstab(dataset[col], dataset['Profitability'])\n",
    "    contgnc_tbl = contgnc_tbl.loc[:, ['Low', 'Medium', 'High']]\n",
    "    plt.figure(figsize=(10, 6))\n",
    "    plt.title(col)\n",
    "    sns.heatmap(contgnc_tbl, annot=True, cmap='coolwarm', fmt='d')\n",
    "    plt.show()"
   ]
  },
  {
   "cell_type": "code",
   "execution_count": 104,
   "metadata": {
    "datalore": {
     "hide_input_from_viewers": false,
     "hide_output_from_viewers": false,
     "node_id": "9OFh3Tztpcct2dlB1XzAUY",
     "report_properties": {
      "relativeY": 0,
      "rowId": "1FUMWvAj0wJJbZI9HZYFig"
     },
     "type": "CODE"
    }
   },
   "outputs": [
    {
     "data": {
      "image/png": "[encoded data removed]",
      "text/plain": [
       "<Figure size 1000x800 with 1 Axes>"
      ]
     },
     "metadata": {},
     "output_type": "display_data"
    }
   ],
   "source": [
    "plt.figure(figsize=(10, 8))\n",
    "plt.title(\"Price & Profitability\")\n",
    "sns.boxplot(data=dataset, x='Profitability', y='Price')\n",
    "plt.show()"
   ]
  },
  {
   "cell_type": "code",
   "execution_count": 105,
   "metadata": {
    "datalore": {
     "hide_input_from_viewers": false,
     "hide_output_from_viewers": false,
     "node_id": "xknm9LGOUAgkDDB9dOnAio",
     "report_properties": {
      "relativeY": 0,
      "rowId": "GvVCPOJ8XEnYI4nMr1y7m4"
     },
     "type": "CODE"
    }
   },
   "outputs": [
    {
     "data": {
      "image/png": "[encoded data removed]",
      "text/plain": [
       "<Figure size 1000x800 with 1 Axes>"
      ]
     },
     "metadata": {},
     "output_type": "display_data"
    }
   ],
   "source": [
    "plt.figure(figsize=(10, 8))\n",
    "plt.title(\"Price & Profitability\")\n",
    "sns.boxplot(data=dataset, x='MenuCategory', y='Price')\n",
    "plt.show()"
   ]
  },
  {
   "cell_type": "code",
   "execution_count": 106,
   "metadata": {
    "datalore": {
     "hide_input_from_viewers": false,
     "hide_output_from_viewers": false,
     "node_id": "zXz9nrbpnrla697AWZIdlm",
     "report_properties": {
      "relativeY": 0,
      "rowId": "rn8HgPh2gBompYd8p4DCJ1"
     },
     "type": "CODE"
    }
   },
   "outputs": [
    {
     "data": {
      "image/png": "[encoded data removed]",
      "text/plain": [
       "<Figure size 1000x800 with 1 Axes>"
      ]
     },
     "metadata": {},
     "output_type": "display_data"
    }
   ],
   "source": [
    "plt.figure(figsize=(10, 8))\n",
    "plt.title(\"Price & Profitability\")\n",
    "sns.boxplot(data=dataset, x='RestaurantID', y='Price')\n",
    "plt.show()"
   ]
  },
  {
   "cell_type": "code",
   "execution_count": 107,
   "metadata": {
    "datalore": {
     "hide_input_from_viewers": false,
     "hide_output_from_viewers": false,
     "node_id": "qWM19491PM7sfacmGVY5tw",
     "report_properties": {
      "relativeY": 0,
      "rowId": "TCLdpu0kCOoKFmw2BHPPti"
     },
     "type": "CODE"
    }
   },
   "outputs": [
    {
     "data": {
      "image/png": "[encoded data removed]",
      "text/plain": [
       "<Figure size 1000x800 with 1 Axes>"
      ]
     },
     "metadata": {},
     "output_type": "display_data"
    }
   ],
   "source": [
    "plt.figure(figsize=(10, 8))\n",
    "plt.title(\"Price & Profitability\")\n",
    "sns.boxplot(data=dataset, x='MenuItem', y='Price')\n",
    "plt.show()"
   ]
  },
  {
   "cell_type": "code",
   "execution_count": 108,
   "metadata": {
    "datalore": {
     "hide_input_from_viewers": false,
     "hide_output_from_viewers": false,
     "node_id": "8bHcn1DS5za3n3OMMouvvU",
     "report_properties": {
      "relativeY": 0,
      "rowId": "kOwlhWfNfFmBPaA8CDkUEt"
     },
     "type": "CODE"
    }
   },
   "outputs": [
    {
     "name": "stdout",
     "output_type": "stream",
     "text": [
      "Empty DataFrame\n",
      "Columns: [RestaurantID, MenuCategory, MenuItem, Ingredients, Price, Profitability]\n",
      "Index: []\n"
     ]
    }
   ],
   "source": [
    "Q1 = dataset['Price'].quantile(0.25)\n",
    "Q3 = dataset['Price'].quantile(0.75)\n",
    "\n",
    "IQR = Q3 - Q1\n",
    "\n",
    "lower_bound = Q1 - 1.5 *IQR\n",
    "upper_bound = Q3 + 1.5*IQR\n",
    "\n",
    "outliers = dataset[(dataset['Price'] < lower_bound) | (dataset['Price'] > upper_bound)]\n",
    "print(outliers)"
   ]
  },
  {
   "attachments": {},
   "cell_type": "markdown",
   "metadata": {
    "datalore": {
     "hide_input_from_viewers": false,
     "hide_output_from_viewers": false,
     "node_id": "GZV1chs0zvGP0eCoOReRXc",
     "report_properties": {
      "relativeY": 0,
      "rowId": "p3V9ityOwU7PAVectsFjlC"
     },
     "type": "MD"
    }
   },
   "source": [
    "## Feature Engineering"
   ]
  },
  {
   "cell_type": "code",
   "execution_count": 109,
   "metadata": {
    "datalore": {
     "hide_input_from_viewers": false,
     "hide_output_from_viewers": false,
     "node_id": "OaXQY8ps4yOJN3Cfuz6cE5",
     "report_properties": {
      "relativeY": 0,
      "rowId": "p9Ctvw0BXoBQCxsWbuOIwb"
     },
     "type": "CODE"
    }
   },
   "outputs": [
    {
     "data": {
      "text/html": [
       "<div>\n",
       "<style scoped>\n",
       "    .dataframe tbody tr th:only-of-type {\n",
       "        vertical-align: middle;\n",
       "    }\n",
       "\n",
       "    .dataframe tbody tr th {\n",
       "        vertical-align: top;\n",
       "    }\n",
       "\n",
       "    .dataframe thead th {\n",
       "        text-align: right;\n",
       "    }\n",
       "</style>\n",
       "<table border=\"1\" class=\"dataframe\">\n",
       "  <thead>\n",
       "    <tr style=\"text-align: right;\">\n",
       "      <th></th>\n",
       "      <th>RestaurantID</th>\n",
       "      <th>MenuCategory</th>\n",
       "      <th>MenuItem</th>\n",
       "      <th>Ingredients</th>\n",
       "      <th>Price</th>\n",
       "      <th>Profitability</th>\n",
       "      <th>NumIngredientsUsed</th>\n",
       "    </tr>\n",
       "  </thead>\n",
       "  <tbody>\n",
       "    <tr>\n",
       "      <th>0</th>\n",
       "      <td>R003</td>\n",
       "      <td>Beverages</td>\n",
       "      <td>Soda</td>\n",
       "      <td>['confidential']</td>\n",
       "      <td>2.55</td>\n",
       "      <td>Low</td>\n",
       "      <td>1</td>\n",
       "    </tr>\n",
       "    <tr>\n",
       "      <th>1</th>\n",
       "      <td>R001</td>\n",
       "      <td>Appetizers</td>\n",
       "      <td>Spinach Artichoke Dip</td>\n",
       "      <td>['Tomatoes', 'Basil', 'Garlic', 'Olive Oil']</td>\n",
       "      <td>11.12</td>\n",
       "      <td>Medium</td>\n",
       "      <td>4</td>\n",
       "    </tr>\n",
       "    <tr>\n",
       "      <th>2</th>\n",
       "      <td>R003</td>\n",
       "      <td>Desserts</td>\n",
       "      <td>New York Cheesecake</td>\n",
       "      <td>['Chocolate', 'Butter', 'Sugar', 'Eggs']</td>\n",
       "      <td>18.66</td>\n",
       "      <td>High</td>\n",
       "      <td>4</td>\n",
       "    </tr>\n",
       "    <tr>\n",
       "      <th>3</th>\n",
       "      <td>R003</td>\n",
       "      <td>Main Course</td>\n",
       "      <td>Chicken Alfredo</td>\n",
       "      <td>['Chicken', 'Fettuccine', 'Alfredo Sauce', 'Pa...</td>\n",
       "      <td>29.55</td>\n",
       "      <td>High</td>\n",
       "      <td>4</td>\n",
       "    </tr>\n",
       "    <tr>\n",
       "      <th>4</th>\n",
       "      <td>R002</td>\n",
       "      <td>Main Course</td>\n",
       "      <td>Grilled Steak</td>\n",
       "      <td>['Chicken', 'Fettuccine', 'Alfredo Sauce', 'Pa...</td>\n",
       "      <td>17.73</td>\n",
       "      <td>Medium</td>\n",
       "      <td>4</td>\n",
       "    </tr>\n",
       "  </tbody>\n",
       "</table>\n",
       "</div>"
      ],
      "text/plain": [
       "  RestaurantID MenuCategory               MenuItem  \\\n",
       "0         R003    Beverages                   Soda   \n",
       "1         R001   Appetizers  Spinach Artichoke Dip   \n",
       "2         R003     Desserts    New York Cheesecake   \n",
       "3         R003  Main Course        Chicken Alfredo   \n",
       "4         R002  Main Course          Grilled Steak   \n",
       "\n",
       "                                         Ingredients  Price Profitability  \\\n",
       "0                                   ['confidential']   2.55           Low   \n",
       "1       ['Tomatoes', 'Basil', 'Garlic', 'Olive Oil']  11.12        Medium   \n",
       "2           ['Chocolate', 'Butter', 'Sugar', 'Eggs']  18.66          High   \n",
       "3  ['Chicken', 'Fettuccine', 'Alfredo Sauce', 'Pa...  29.55          High   \n",
       "4  ['Chicken', 'Fettuccine', 'Alfredo Sauce', 'Pa...  17.73        Medium   \n",
       "\n",
       "   NumIngredientsUsed  \n",
       "0                   1  \n",
       "1                   4  \n",
       "2                   4  \n",
       "3                   4  \n",
       "4                   4  "
      ]
     },
     "execution_count": 109,
     "metadata": {},
     "output_type": "execute_result"
    }
   ],
   "source": [
    "# Splitting number of Ingredients\n",
    "dataset['NumIngredientsUsed'] = dataset['Ingredients'].apply(lambda x: len(x.split(',')))\n",
    "\n",
    "dataset.head()"
   ]
  },
  {
   "cell_type": "code",
   "execution_count": 110,
   "metadata": {
    "datalore": {
     "hide_input_from_viewers": false,
     "hide_output_from_viewers": false,
     "node_id": "vQvPZETFeVBEx5m6hmxd1Q",
     "report_properties": {
      "relativeY": 0,
      "rowId": "plOkoPPkIHe7hQdNiJVEbg"
     },
     "type": "CODE"
    }
   },
   "outputs": [],
   "source": [
    "# Encoding categorical cols\n",
    "LE = LabelEncoder()\n",
    "\n",
    "# Label Encoding for Target col\n",
    "dataset['Profitability'] = LE.fit_transform(dataset['Profitability'])\n",
    "\n",
    "# One-Hot Encoding for other cat cols\n",
    "dataset = pd.get_dummies(dataset, columns=['RestaurantID', 'MenuCategory', 'MenuItem', 'Ingredients'])\n"
   ]
  },
  {
   "cell_type": "code",
   "execution_count": 111,
   "metadata": {
    "datalore": {
     "hide_input_from_viewers": false,
     "hide_output_from_viewers": false,
     "node_id": "E3d8tuPksKHwfJCrTbmBii",
     "report_properties": {
      "relativeY": 0,
      "rowId": "aBtuEdRDvq0JUcXbNzK7Nq"
     },
     "type": "CODE"
    }
   },
   "outputs": [
    {
     "data": {
      "text/plain": [
       "(1000, 30)"
      ]
     },
     "execution_count": 111,
     "metadata": {},
     "output_type": "execute_result"
    }
   ],
   "source": [
    "dataset.shape"
   ]
  },
  {
   "cell_type": "code",
   "execution_count": 112,
   "metadata": {
    "datalore": {
     "hide_input_from_viewers": false,
     "hide_output_from_viewers": false,
     "node_id": "3OWPBXAaEU6T3RTuZcqpXH",
     "report_properties": {
      "relativeY": 0,
      "rowId": "H8V7ZyKKRf83K0sSqsXUsC"
     },
     "type": "CODE"
    }
   },
   "outputs": [
    {
     "data": {
      "text/html": [
       "<div>\n",
       "<style scoped>\n",
       "    .dataframe tbody tr th:only-of-type {\n",
       "        vertical-align: middle;\n",
       "    }\n",
       "\n",
       "    .dataframe tbody tr th {\n",
       "        vertical-align: top;\n",
       "    }\n",
       "\n",
       "    .dataframe thead th {\n",
       "        text-align: right;\n",
       "    }\n",
       "</style>\n",
       "<table border=\"1\" class=\"dataframe\">\n",
       "  <thead>\n",
       "    <tr style=\"text-align: right;\">\n",
       "      <th></th>\n",
       "      <th>Price</th>\n",
       "      <th>Profitability</th>\n",
       "      <th>NumIngredientsUsed</th>\n",
       "      <th>RestaurantID_R001</th>\n",
       "      <th>RestaurantID_R002</th>\n",
       "      <th>RestaurantID_R003</th>\n",
       "      <th>MenuCategory_Appetizers</th>\n",
       "      <th>MenuCategory_Beverages</th>\n",
       "      <th>MenuCategory_Desserts</th>\n",
       "      <th>MenuCategory_Main Course</th>\n",
       "      <th>...</th>\n",
       "      <th>MenuItem_Shrimp Scampi</th>\n",
       "      <th>MenuItem_Soda</th>\n",
       "      <th>MenuItem_Spinach Artichoke Dip</th>\n",
       "      <th>MenuItem_Stuffed Mushrooms</th>\n",
       "      <th>MenuItem_Tiramisu</th>\n",
       "      <th>MenuItem_Vegetable Stir-Fry</th>\n",
       "      <th>Ingredients_['Chicken', 'Fettuccine', 'Alfredo Sauce', 'Parmesan']</th>\n",
       "      <th>Ingredients_['Chocolate', 'Butter', 'Sugar', 'Eggs']</th>\n",
       "      <th>Ingredients_['Tomatoes', 'Basil', 'Garlic', 'Olive Oil']</th>\n",
       "      <th>Ingredients_['confidential']</th>\n",
       "    </tr>\n",
       "  </thead>\n",
       "  <tbody>\n",
       "    <tr>\n",
       "      <th>0</th>\n",
       "      <td>2.55</td>\n",
       "      <td>1</td>\n",
       "      <td>1</td>\n",
       "      <td>False</td>\n",
       "      <td>False</td>\n",
       "      <td>True</td>\n",
       "      <td>False</td>\n",
       "      <td>True</td>\n",
       "      <td>False</td>\n",
       "      <td>False</td>\n",
       "      <td>...</td>\n",
       "      <td>False</td>\n",
       "      <td>True</td>\n",
       "      <td>False</td>\n",
       "      <td>False</td>\n",
       "      <td>False</td>\n",
       "      <td>False</td>\n",
       "      <td>False</td>\n",
       "      <td>False</td>\n",
       "      <td>False</td>\n",
       "      <td>True</td>\n",
       "    </tr>\n",
       "    <tr>\n",
       "      <th>1</th>\n",
       "      <td>11.12</td>\n",
       "      <td>2</td>\n",
       "      <td>4</td>\n",
       "      <td>True</td>\n",
       "      <td>False</td>\n",
       "      <td>False</td>\n",
       "      <td>True</td>\n",
       "      <td>False</td>\n",
       "      <td>False</td>\n",
       "      <td>False</td>\n",
       "      <td>...</td>\n",
       "      <td>False</td>\n",
       "      <td>False</td>\n",
       "      <td>True</td>\n",
       "      <td>False</td>\n",
       "      <td>False</td>\n",
       "      <td>False</td>\n",
       "      <td>False</td>\n",
       "      <td>False</td>\n",
       "      <td>True</td>\n",
       "      <td>False</td>\n",
       "    </tr>\n",
       "    <tr>\n",
       "      <th>2</th>\n",
       "      <td>18.66</td>\n",
       "      <td>0</td>\n",
       "      <td>4</td>\n",
       "      <td>False</td>\n",
       "      <td>False</td>\n",
       "      <td>True</td>\n",
       "      <td>False</td>\n",
       "      <td>False</td>\n",
       "      <td>True</td>\n",
       "      <td>False</td>\n",
       "      <td>...</td>\n",
       "      <td>False</td>\n",
       "      <td>False</td>\n",
       "      <td>False</td>\n",
       "      <td>False</td>\n",
       "      <td>False</td>\n",
       "      <td>False</td>\n",
       "      <td>False</td>\n",
       "      <td>True</td>\n",
       "      <td>False</td>\n",
       "      <td>False</td>\n",
       "    </tr>\n",
       "    <tr>\n",
       "      <th>3</th>\n",
       "      <td>29.55</td>\n",
       "      <td>0</td>\n",
       "      <td>4</td>\n",
       "      <td>False</td>\n",
       "      <td>False</td>\n",
       "      <td>True</td>\n",
       "      <td>False</td>\n",
       "      <td>False</td>\n",
       "      <td>False</td>\n",
       "      <td>True</td>\n",
       "      <td>...</td>\n",
       "      <td>False</td>\n",
       "      <td>False</td>\n",
       "      <td>False</td>\n",
       "      <td>False</td>\n",
       "      <td>False</td>\n",
       "      <td>False</td>\n",
       "      <td>True</td>\n",
       "      <td>False</td>\n",
       "      <td>False</td>\n",
       "      <td>False</td>\n",
       "    </tr>\n",
       "    <tr>\n",
       "      <th>4</th>\n",
       "      <td>17.73</td>\n",
       "      <td>2</td>\n",
       "      <td>4</td>\n",
       "      <td>False</td>\n",
       "      <td>True</td>\n",
       "      <td>False</td>\n",
       "      <td>False</td>\n",
       "      <td>False</td>\n",
       "      <td>False</td>\n",
       "      <td>True</td>\n",
       "      <td>...</td>\n",
       "      <td>False</td>\n",
       "      <td>False</td>\n",
       "      <td>False</td>\n",
       "      <td>False</td>\n",
       "      <td>False</td>\n",
       "      <td>False</td>\n",
       "      <td>True</td>\n",
       "      <td>False</td>\n",
       "      <td>False</td>\n",
       "      <td>False</td>\n",
       "    </tr>\n",
       "  </tbody>\n",
       "</table>\n",
       "<p>5 rows × 30 columns</p>\n",
       "</div>"
      ],
      "text/plain": [
       "   Price  Profitability  NumIngredientsUsed  RestaurantID_R001  \\\n",
       "0   2.55              1                   1              False   \n",
       "1  11.12              2                   4               True   \n",
       "2  18.66              0                   4              False   \n",
       "3  29.55              0                   4              False   \n",
       "4  17.73              2                   4              False   \n",
       "\n",
       "   RestaurantID_R002  RestaurantID_R003  MenuCategory_Appetizers  \\\n",
       "0              False               True                    False   \n",
       "1              False              False                     True   \n",
       "2              False               True                    False   \n",
       "3              False               True                    False   \n",
       "4               True              False                    False   \n",
       "\n",
       "   MenuCategory_Beverages  MenuCategory_Desserts  MenuCategory_Main Course  \\\n",
       "0                    True                  False                     False   \n",
       "1                   False                  False                     False   \n",
       "2                   False                   True                     False   \n",
       "3                   False                  False                      True   \n",
       "4                   False                  False                      True   \n",
       "\n",
       "   ...  MenuItem_Shrimp Scampi  MenuItem_Soda  MenuItem_Spinach Artichoke Dip  \\\n",
       "0  ...                   False           True                           False   \n",
       "1  ...                   False          False                            True   \n",
       "2  ...                   False          False                           False   \n",
       "3  ...                   False          False                           False   \n",
       "4  ...                   False          False                           False   \n",
       "\n",
       "   MenuItem_Stuffed Mushrooms  MenuItem_Tiramisu  MenuItem_Vegetable Stir-Fry  \\\n",
       "0                       False              False                        False   \n",
       "1                       False              False                        False   \n",
       "2                       False              False                        False   \n",
       "3                       False              False                        False   \n",
       "4                       False              False                        False   \n",
       "\n",
       "   Ingredients_['Chicken', 'Fettuccine', 'Alfredo Sauce', 'Parmesan']  \\\n",
       "0                                              False                    \n",
       "1                                              False                    \n",
       "2                                              False                    \n",
       "3                                               True                    \n",
       "4                                               True                    \n",
       "\n",
       "   Ingredients_['Chocolate', 'Butter', 'Sugar', 'Eggs']  \\\n",
       "0                                              False      \n",
       "1                                              False      \n",
       "2                                               True      \n",
       "3                                              False      \n",
       "4                                              False      \n",
       "\n",
       "   Ingredients_['Tomatoes', 'Basil', 'Garlic', 'Olive Oil']  \\\n",
       "0                                              False          \n",
       "1                                               True          \n",
       "2                                              False          \n",
       "3                                              False          \n",
       "4                                              False          \n",
       "\n",
       "   Ingredients_['confidential']  \n",
       "0                          True  \n",
       "1                         False  \n",
       "2                         False  \n",
       "3                         False  \n",
       "4                         False  \n",
       "\n",
       "[5 rows x 30 columns]"
      ]
     },
     "execution_count": 112,
     "metadata": {},
     "output_type": "execute_result"
    }
   ],
   "source": [
    "dataset.head()"
   ]
  },
  {
   "cell_type": "code",
   "execution_count": 113,
   "metadata": {},
   "outputs": [
    {
     "data": {
      "text/html": [
       "<div>\n",
       "<style scoped>\n",
       "    .dataframe tbody tr th:only-of-type {\n",
       "        vertical-align: middle;\n",
       "    }\n",
       "\n",
       "    .dataframe tbody tr th {\n",
       "        vertical-align: top;\n",
       "    }\n",
       "\n",
       "    .dataframe thead th {\n",
       "        text-align: right;\n",
       "    }\n",
       "</style>\n",
       "<table border=\"1\" class=\"dataframe\">\n",
       "  <thead>\n",
       "    <tr style=\"text-align: right;\">\n",
       "      <th></th>\n",
       "      <th>Price</th>\n",
       "      <th>Profitability</th>\n",
       "      <th>NumIngredientsUsed</th>\n",
       "      <th>RestaurantID_R001</th>\n",
       "      <th>RestaurantID_R002</th>\n",
       "      <th>RestaurantID_R003</th>\n",
       "      <th>MenuCategory_Appetizers</th>\n",
       "      <th>MenuCategory_Beverages</th>\n",
       "      <th>MenuCategory_Desserts</th>\n",
       "      <th>MenuCategory_Main_Course</th>\n",
       "      <th>...</th>\n",
       "      <th>MenuItem_Shrimp_Scampi</th>\n",
       "      <th>MenuItem_Soda</th>\n",
       "      <th>MenuItem_Spinach_Artichoke_Dip</th>\n",
       "      <th>MenuItem_Stuffed_Mushrooms</th>\n",
       "      <th>MenuItem_Tiramisu</th>\n",
       "      <th>MenuItem_Vegetable_Stir-Fry</th>\n",
       "      <th>Ingredients_Chicken,_Fettuccine,_Alfredo_Sauce,_Parmesan</th>\n",
       "      <th>Ingredients_Chocolate,_Butter,_Sugar,_Eggs</th>\n",
       "      <th>Ingredients_Tomatoes,_Basil,_Garlic,_Olive_Oil</th>\n",
       "      <th>Ingredients_confidential</th>\n",
       "    </tr>\n",
       "  </thead>\n",
       "  <tbody>\n",
       "    <tr>\n",
       "      <th>0</th>\n",
       "      <td>2.55</td>\n",
       "      <td>1</td>\n",
       "      <td>1</td>\n",
       "      <td>False</td>\n",
       "      <td>False</td>\n",
       "      <td>True</td>\n",
       "      <td>False</td>\n",
       "      <td>True</td>\n",
       "      <td>False</td>\n",
       "      <td>False</td>\n",
       "      <td>...</td>\n",
       "      <td>False</td>\n",
       "      <td>True</td>\n",
       "      <td>False</td>\n",
       "      <td>False</td>\n",
       "      <td>False</td>\n",
       "      <td>False</td>\n",
       "      <td>False</td>\n",
       "      <td>False</td>\n",
       "      <td>False</td>\n",
       "      <td>True</td>\n",
       "    </tr>\n",
       "    <tr>\n",
       "      <th>1</th>\n",
       "      <td>11.12</td>\n",
       "      <td>2</td>\n",
       "      <td>4</td>\n",
       "      <td>True</td>\n",
       "      <td>False</td>\n",
       "      <td>False</td>\n",
       "      <td>True</td>\n",
       "      <td>False</td>\n",
       "      <td>False</td>\n",
       "      <td>False</td>\n",
       "      <td>...</td>\n",
       "      <td>False</td>\n",
       "      <td>False</td>\n",
       "      <td>True</td>\n",
       "      <td>False</td>\n",
       "      <td>False</td>\n",
       "      <td>False</td>\n",
       "      <td>False</td>\n",
       "      <td>False</td>\n",
       "      <td>True</td>\n",
       "      <td>False</td>\n",
       "    </tr>\n",
       "    <tr>\n",
       "      <th>2</th>\n",
       "      <td>18.66</td>\n",
       "      <td>0</td>\n",
       "      <td>4</td>\n",
       "      <td>False</td>\n",
       "      <td>False</td>\n",
       "      <td>True</td>\n",
       "      <td>False</td>\n",
       "      <td>False</td>\n",
       "      <td>True</td>\n",
       "      <td>False</td>\n",
       "      <td>...</td>\n",
       "      <td>False</td>\n",
       "      <td>False</td>\n",
       "      <td>False</td>\n",
       "      <td>False</td>\n",
       "      <td>False</td>\n",
       "      <td>False</td>\n",
       "      <td>False</td>\n",
       "      <td>True</td>\n",
       "      <td>False</td>\n",
       "      <td>False</td>\n",
       "    </tr>\n",
       "    <tr>\n",
       "      <th>3</th>\n",
       "      <td>29.55</td>\n",
       "      <td>0</td>\n",
       "      <td>4</td>\n",
       "      <td>False</td>\n",
       "      <td>False</td>\n",
       "      <td>True</td>\n",
       "      <td>False</td>\n",
       "      <td>False</td>\n",
       "      <td>False</td>\n",
       "      <td>True</td>\n",
       "      <td>...</td>\n",
       "      <td>False</td>\n",
       "      <td>False</td>\n",
       "      <td>False</td>\n",
       "      <td>False</td>\n",
       "      <td>False</td>\n",
       "      <td>False</td>\n",
       "      <td>True</td>\n",
       "      <td>False</td>\n",
       "      <td>False</td>\n",
       "      <td>False</td>\n",
       "    </tr>\n",
       "    <tr>\n",
       "      <th>4</th>\n",
       "      <td>17.73</td>\n",
       "      <td>2</td>\n",
       "      <td>4</td>\n",
       "      <td>False</td>\n",
       "      <td>True</td>\n",
       "      <td>False</td>\n",
       "      <td>False</td>\n",
       "      <td>False</td>\n",
       "      <td>False</td>\n",
       "      <td>True</td>\n",
       "      <td>...</td>\n",
       "      <td>False</td>\n",
       "      <td>False</td>\n",
       "      <td>False</td>\n",
       "      <td>False</td>\n",
       "      <td>False</td>\n",
       "      <td>False</td>\n",
       "      <td>True</td>\n",
       "      <td>False</td>\n",
       "      <td>False</td>\n",
       "      <td>False</td>\n",
       "    </tr>\n",
       "  </tbody>\n",
       "</table>\n",
       "<p>5 rows × 30 columns</p>\n",
       "</div>"
      ],
      "text/plain": [
       "   Price  Profitability  NumIngredientsUsed  RestaurantID_R001  \\\n",
       "0   2.55              1                   1              False   \n",
       "1  11.12              2                   4               True   \n",
       "2  18.66              0                   4              False   \n",
       "3  29.55              0                   4              False   \n",
       "4  17.73              2                   4              False   \n",
       "\n",
       "   RestaurantID_R002  RestaurantID_R003  MenuCategory_Appetizers  \\\n",
       "0              False               True                    False   \n",
       "1              False              False                     True   \n",
       "2              False               True                    False   \n",
       "3              False               True                    False   \n",
       "4               True              False                    False   \n",
       "\n",
       "   MenuCategory_Beverages  MenuCategory_Desserts  MenuCategory_Main_Course  \\\n",
       "0                    True                  False                     False   \n",
       "1                   False                  False                     False   \n",
       "2                   False                   True                     False   \n",
       "3                   False                  False                      True   \n",
       "4                   False                  False                      True   \n",
       "\n",
       "   ...  MenuItem_Shrimp_Scampi  MenuItem_Soda  MenuItem_Spinach_Artichoke_Dip  \\\n",
       "0  ...                   False           True                           False   \n",
       "1  ...                   False          False                            True   \n",
       "2  ...                   False          False                           False   \n",
       "3  ...                   False          False                           False   \n",
       "4  ...                   False          False                           False   \n",
       "\n",
       "   MenuItem_Stuffed_Mushrooms  MenuItem_Tiramisu  MenuItem_Vegetable_Stir-Fry  \\\n",
       "0                       False              False                        False   \n",
       "1                       False              False                        False   \n",
       "2                       False              False                        False   \n",
       "3                       False              False                        False   \n",
       "4                       False              False                        False   \n",
       "\n",
       "   Ingredients_Chicken,_Fettuccine,_Alfredo_Sauce,_Parmesan  \\\n",
       "0                                              False          \n",
       "1                                              False          \n",
       "2                                              False          \n",
       "3                                               True          \n",
       "4                                               True          \n",
       "\n",
       "   Ingredients_Chocolate,_Butter,_Sugar,_Eggs  \\\n",
       "0                                       False   \n",
       "1                                       False   \n",
       "2                                        True   \n",
       "3                                       False   \n",
       "4                                       False   \n",
       "\n",
       "   Ingredients_Tomatoes,_Basil,_Garlic,_Olive_Oil  Ingredients_confidential  \n",
       "0                                           False                      True  \n",
       "1                                            True                     False  \n",
       "2                                           False                     False  \n",
       "3                                           False                     False  \n",
       "4                                           False                     False  \n",
       "\n",
       "[5 rows x 30 columns]"
      ]
     },
     "execution_count": 113,
     "metadata": {},
     "output_type": "execute_result"
    }
   ],
   "source": [
    "dataset.columns = [col.replace('[', '').replace(']', '').replace(\"'\", '').replace(\" \", \"_\") for col in dataset.columns]\n",
    "\n",
    "dataset.head()"
   ]
  },
  {
   "cell_type": "code",
   "execution_count": 114,
   "metadata": {},
   "outputs": [
    {
     "data": {
      "text/plain": [
       "['RestaurantID_R001',\n",
       " 'RestaurantID_R002',\n",
       " 'RestaurantID_R003',\n",
       " 'MenuCategory_Appetizers',\n",
       " 'MenuCategory_Beverages',\n",
       " 'MenuCategory_Desserts',\n",
       " 'MenuCategory_Main_Course',\n",
       " 'MenuItem_Bruschetta',\n",
       " 'MenuItem_Caprese_Salad',\n",
       " 'MenuItem_Chicken_Alfredo',\n",
       " 'MenuItem_Chocolate_Lava_Cake',\n",
       " 'MenuItem_Coffee',\n",
       " 'MenuItem_Fruit_Tart',\n",
       " 'MenuItem_Grilled_Steak',\n",
       " 'MenuItem_Iced_Tea',\n",
       " 'MenuItem_Lemonade',\n",
       " 'MenuItem_New_York_Cheesecake',\n",
       " 'MenuItem_Shrimp_Scampi',\n",
       " 'MenuItem_Soda',\n",
       " 'MenuItem_Spinach_Artichoke_Dip',\n",
       " 'MenuItem_Stuffed_Mushrooms',\n",
       " 'MenuItem_Tiramisu',\n",
       " 'MenuItem_Vegetable_Stir-Fry',\n",
       " 'Ingredients_Chicken,_Fettuccine,_Alfredo_Sauce,_Parmesan',\n",
       " 'Ingredients_Chocolate,_Butter,_Sugar,_Eggs',\n",
       " 'Ingredients_Tomatoes,_Basil,_Garlic,_Olive_Oil',\n",
       " 'Ingredients_confidential']"
      ]
     },
     "execution_count": 114,
     "metadata": {},
     "output_type": "execute_result"
    }
   ],
   "source": [
    "bool_feat = []\n",
    "\n",
    "for col in dataset.columns:\n",
    "    if dataset[col].dtypes == 'bool':\n",
    "         bool_feat.append(col)\n",
    "\n",
    "bool_feat"
   ]
  },
  {
   "cell_type": "code",
   "execution_count": 115,
   "metadata": {},
   "outputs": [
    {
     "data": {
      "text/html": [
       "<div>\n",
       "<style scoped>\n",
       "    .dataframe tbody tr th:only-of-type {\n",
       "        vertical-align: middle;\n",
       "    }\n",
       "\n",
       "    .dataframe tbody tr th {\n",
       "        vertical-align: top;\n",
       "    }\n",
       "\n",
       "    .dataframe thead th {\n",
       "        text-align: right;\n",
       "    }\n",
       "</style>\n",
       "<table border=\"1\" class=\"dataframe\">\n",
       "  <thead>\n",
       "    <tr style=\"text-align: right;\">\n",
       "      <th></th>\n",
       "      <th>Price</th>\n",
       "      <th>Profitability</th>\n",
       "      <th>NumIngredientsUsed</th>\n",
       "      <th>RestaurantID_R001</th>\n",
       "      <th>RestaurantID_R002</th>\n",
       "      <th>RestaurantID_R003</th>\n",
       "      <th>MenuCategory_Appetizers</th>\n",
       "      <th>MenuCategory_Beverages</th>\n",
       "      <th>MenuCategory_Desserts</th>\n",
       "      <th>MenuCategory_Main_Course</th>\n",
       "      <th>...</th>\n",
       "      <th>MenuItem_Shrimp_Scampi</th>\n",
       "      <th>MenuItem_Soda</th>\n",
       "      <th>MenuItem_Spinach_Artichoke_Dip</th>\n",
       "      <th>MenuItem_Stuffed_Mushrooms</th>\n",
       "      <th>MenuItem_Tiramisu</th>\n",
       "      <th>MenuItem_Vegetable_Stir-Fry</th>\n",
       "      <th>Ingredients_Chicken,_Fettuccine,_Alfredo_Sauce,_Parmesan</th>\n",
       "      <th>Ingredients_Chocolate,_Butter,_Sugar,_Eggs</th>\n",
       "      <th>Ingredients_Tomatoes,_Basil,_Garlic,_Olive_Oil</th>\n",
       "      <th>Ingredients_confidential</th>\n",
       "    </tr>\n",
       "  </thead>\n",
       "  <tbody>\n",
       "    <tr>\n",
       "      <th>0</th>\n",
       "      <td>2.55</td>\n",
       "      <td>1</td>\n",
       "      <td>1</td>\n",
       "      <td>0</td>\n",
       "      <td>0</td>\n",
       "      <td>1</td>\n",
       "      <td>0</td>\n",
       "      <td>1</td>\n",
       "      <td>0</td>\n",
       "      <td>0</td>\n",
       "      <td>...</td>\n",
       "      <td>0</td>\n",
       "      <td>1</td>\n",
       "      <td>0</td>\n",
       "      <td>0</td>\n",
       "      <td>0</td>\n",
       "      <td>0</td>\n",
       "      <td>0</td>\n",
       "      <td>0</td>\n",
       "      <td>0</td>\n",
       "      <td>1</td>\n",
       "    </tr>\n",
       "    <tr>\n",
       "      <th>1</th>\n",
       "      <td>11.12</td>\n",
       "      <td>2</td>\n",
       "      <td>4</td>\n",
       "      <td>1</td>\n",
       "      <td>0</td>\n",
       "      <td>0</td>\n",
       "      <td>1</td>\n",
       "      <td>0</td>\n",
       "      <td>0</td>\n",
       "      <td>0</td>\n",
       "      <td>...</td>\n",
       "      <td>0</td>\n",
       "      <td>0</td>\n",
       "      <td>1</td>\n",
       "      <td>0</td>\n",
       "      <td>0</td>\n",
       "      <td>0</td>\n",
       "      <td>0</td>\n",
       "      <td>0</td>\n",
       "      <td>1</td>\n",
       "      <td>0</td>\n",
       "    </tr>\n",
       "    <tr>\n",
       "      <th>2</th>\n",
       "      <td>18.66</td>\n",
       "      <td>0</td>\n",
       "      <td>4</td>\n",
       "      <td>0</td>\n",
       "      <td>0</td>\n",
       "      <td>1</td>\n",
       "      <td>0</td>\n",
       "      <td>0</td>\n",
       "      <td>1</td>\n",
       "      <td>0</td>\n",
       "      <td>...</td>\n",
       "      <td>0</td>\n",
       "      <td>0</td>\n",
       "      <td>0</td>\n",
       "      <td>0</td>\n",
       "      <td>0</td>\n",
       "      <td>0</td>\n",
       "      <td>0</td>\n",
       "      <td>1</td>\n",
       "      <td>0</td>\n",
       "      <td>0</td>\n",
       "    </tr>\n",
       "    <tr>\n",
       "      <th>3</th>\n",
       "      <td>29.55</td>\n",
       "      <td>0</td>\n",
       "      <td>4</td>\n",
       "      <td>0</td>\n",
       "      <td>0</td>\n",
       "      <td>1</td>\n",
       "      <td>0</td>\n",
       "      <td>0</td>\n",
       "      <td>0</td>\n",
       "      <td>1</td>\n",
       "      <td>...</td>\n",
       "      <td>0</td>\n",
       "      <td>0</td>\n",
       "      <td>0</td>\n",
       "      <td>0</td>\n",
       "      <td>0</td>\n",
       "      <td>0</td>\n",
       "      <td>1</td>\n",
       "      <td>0</td>\n",
       "      <td>0</td>\n",
       "      <td>0</td>\n",
       "    </tr>\n",
       "    <tr>\n",
       "      <th>4</th>\n",
       "      <td>17.73</td>\n",
       "      <td>2</td>\n",
       "      <td>4</td>\n",
       "      <td>0</td>\n",
       "      <td>1</td>\n",
       "      <td>0</td>\n",
       "      <td>0</td>\n",
       "      <td>0</td>\n",
       "      <td>0</td>\n",
       "      <td>1</td>\n",
       "      <td>...</td>\n",
       "      <td>0</td>\n",
       "      <td>0</td>\n",
       "      <td>0</td>\n",
       "      <td>0</td>\n",
       "      <td>0</td>\n",
       "      <td>0</td>\n",
       "      <td>1</td>\n",
       "      <td>0</td>\n",
       "      <td>0</td>\n",
       "      <td>0</td>\n",
       "    </tr>\n",
       "  </tbody>\n",
       "</table>\n",
       "<p>5 rows × 30 columns</p>\n",
       "</div>"
      ],
      "text/plain": [
       "   Price  Profitability  NumIngredientsUsed  RestaurantID_R001  \\\n",
       "0   2.55              1                   1                  0   \n",
       "1  11.12              2                   4                  1   \n",
       "2  18.66              0                   4                  0   \n",
       "3  29.55              0                   4                  0   \n",
       "4  17.73              2                   4                  0   \n",
       "\n",
       "   RestaurantID_R002  RestaurantID_R003  MenuCategory_Appetizers  \\\n",
       "0                  0                  1                        0   \n",
       "1                  0                  0                        1   \n",
       "2                  0                  1                        0   \n",
       "3                  0                  1                        0   \n",
       "4                  1                  0                        0   \n",
       "\n",
       "   MenuCategory_Beverages  MenuCategory_Desserts  MenuCategory_Main_Course  \\\n",
       "0                       1                      0                         0   \n",
       "1                       0                      0                         0   \n",
       "2                       0                      1                         0   \n",
       "3                       0                      0                         1   \n",
       "4                       0                      0                         1   \n",
       "\n",
       "   ...  MenuItem_Shrimp_Scampi  MenuItem_Soda  MenuItem_Spinach_Artichoke_Dip  \\\n",
       "0  ...                       0              1                               0   \n",
       "1  ...                       0              0                               1   \n",
       "2  ...                       0              0                               0   \n",
       "3  ...                       0              0                               0   \n",
       "4  ...                       0              0                               0   \n",
       "\n",
       "   MenuItem_Stuffed_Mushrooms  MenuItem_Tiramisu  MenuItem_Vegetable_Stir-Fry  \\\n",
       "0                           0                  0                            0   \n",
       "1                           0                  0                            0   \n",
       "2                           0                  0                            0   \n",
       "3                           0                  0                            0   \n",
       "4                           0                  0                            0   \n",
       "\n",
       "   Ingredients_Chicken,_Fettuccine,_Alfredo_Sauce,_Parmesan  \\\n",
       "0                                                  0          \n",
       "1                                                  0          \n",
       "2                                                  0          \n",
       "3                                                  1          \n",
       "4                                                  1          \n",
       "\n",
       "   Ingredients_Chocolate,_Butter,_Sugar,_Eggs  \\\n",
       "0                                           0   \n",
       "1                                           0   \n",
       "2                                           1   \n",
       "3                                           0   \n",
       "4                                           0   \n",
       "\n",
       "   Ingredients_Tomatoes,_Basil,_Garlic,_Olive_Oil  Ingredients_confidential  \n",
       "0                                               0                         1  \n",
       "1                                               1                         0  \n",
       "2                                               0                         0  \n",
       "3                                               0                         0  \n",
       "4                                               0                         0  \n",
       "\n",
       "[5 rows x 30 columns]"
      ]
     },
     "execution_count": 115,
     "metadata": {},
     "output_type": "execute_result"
    }
   ],
   "source": [
    "for col in bool_feat:\n",
    "    dataset[col] = dataset[col].replace({True: 1, False: 0})\n",
    "\n",
    "dataset.head()"
   ]
  },
  {
   "cell_type": "code",
   "execution_count": 116,
   "metadata": {
    "datalore": {
     "hide_input_from_viewers": false,
     "hide_output_from_viewers": false,
     "node_id": "s7FnvYGNSUiLOOeaqzIOb3",
     "report_properties": {
      "relativeY": 0,
      "rowId": "vAMdqGxUaC0SHdYhHKjPJT"
     },
     "type": "CODE"
    }
   },
   "outputs": [],
   "source": [
    "X = dataset.drop('Profitability', axis=1)\n",
    "y = dataset['Profitability']"
   ]
  },
  {
   "cell_type": "code",
   "execution_count": 117,
   "metadata": {
    "datalore": {
     "hide_input_from_viewers": false,
     "hide_output_from_viewers": false,
     "node_id": "my3JlGAIDJiBkh7KpjSayH",
     "report_properties": {
      "relativeY": 0,
      "rowId": "PuBDNuv6O1ntWxrfMJ2thY"
     },
     "type": "CODE"
    }
   },
   "outputs": [
    {
     "name": "stdout",
     "output_type": "stream",
     "text": [
      "The shape of X  :   (1000, 29)\n",
      "The shape of y  :   (1000,)\n"
     ]
    }
   ],
   "source": [
    "print(f\"The shape of X  :   {X.shape}\")\n",
    "print(f\"The shape of y  :   {y.shape}\")"
   ]
  },
  {
   "attachments": {},
   "cell_type": "markdown",
   "metadata": {
    "datalore": {
     "hide_input_from_viewers": false,
     "hide_output_from_viewers": false,
     "node_id": "I0P2jfs0LGSQM2yEOuts1a",
     "report_properties": {
      "relativeY": 0,
      "rowId": "RoS5iqjSpsejQCFIP6p0m2"
     },
     "type": "MD"
    }
   },
   "source": [
    "## Build and Evaluate Model"
   ]
  },
  {
   "cell_type": "code",
   "execution_count": 118,
   "metadata": {
    "datalore": {
     "hide_input_from_viewers": false,
     "hide_output_from_viewers": false,
     "node_id": "mRMiva1o2zrkC8Nss0dEg1",
     "report_properties": {
      "relativeY": 0,
      "rowId": "TqI6e4si06ThgbPRzCJfhx"
     },
     "type": "CODE"
    }
   },
   "outputs": [],
   "source": [
    "trainX, testX, trainY, testY = train_test_split(X, y, test_size=0.2, random_state=42)"
   ]
  },
  {
   "cell_type": "code",
   "execution_count": 119,
   "metadata": {
    "datalore": {
     "hide_input_from_viewers": false,
     "hide_output_from_viewers": false,
     "node_id": "psI8EMquMwl22y2QbswoRt",
     "report_properties": {
      "relativeY": 0,
      "rowId": "2MNC7cnn4Dhwxh5KrOnhIH"
     },
     "type": "CODE"
    }
   },
   "outputs": [
    {
     "name": "stdout",
     "output_type": "stream",
     "text": [
      "The shape of the trainX    :    (800, 29)\n",
      "The shape of the testX    :    (200, 29)\n",
      "The shape of the trainY    :    (800,)\n",
      "The shape of the testY    :    (200,)\n"
     ]
    }
   ],
   "source": [
    "print(f\"The shape of the trainX    :    {trainX.shape}\")\n",
    "print(f\"The shape of the testX    :    {testX.shape}\")\n",
    "print(f\"The shape of the trainY    :    {trainY.shape}\")\n",
    "print(f\"The shape of the testY    :    {testY.shape}\")"
   ]
  },
  {
   "cell_type": "code",
   "execution_count": 120,
   "metadata": {
    "datalore": {
     "hide_input_from_viewers": false,
     "hide_output_from_viewers": false,
     "node_id": "4hwXWCCnN6YLPynNMpfWKS",
     "report_properties": {
      "relativeY": 0,
      "rowId": "ylxF8vAhDjLs8Gcx0B5edg"
     },
     "type": "CODE"
    }
   },
   "outputs": [],
   "source": [
    "# Function to evaluate model\n",
    "def evaluate_model(trueY, predY):\n",
    "    from sklearn.metrics import accuracy_score, precision_score, recall_score, f1_score, confusion_matrix, classification_report\n",
    "\n",
    "    # Compute accuracy\n",
    "    accuracy = accuracy_score(trueY, predY)\n",
    "    \n",
    "    # Compute precision\n",
    "    precision = precision_score(trueY, predY, average='weighted')\n",
    "    \n",
    "    # Compute recall\n",
    "    recall = recall_score(trueY, predY, average='weighted')\n",
    "    \n",
    "    # Compute F1 score\n",
    "    f1 = f1_score(trueY, predY, average='weighted')\n",
    "    \n",
    "    # Compute confusion matrix\n",
    "    conf_matrix = confusion_matrix(trueY, predY)\n",
    "    \n",
    "    # Generate classification report\n",
    "    class_report = classification_report(trueY, predY)\n",
    "    \n",
    "    # Print the metrics\n",
    "    print(\"Model Evaluation Metrics:\")\n",
    "    print(\"-\" * 30)\n",
    "    print(f\"Accuracy: {accuracy:.4f}\")\n",
    "    print(f\"Precision: {precision:.4f}\")\n",
    "    print(f\"Recall: {recall:.4f}\")\n",
    "    print(f\"F1 Score: {f1:.4f}\")\n",
    "    print(\"\\nConfusion Matrix:\")\n",
    "    print(conf_matrix)\n",
    "    print(\"\\nClassification Report:\")\n",
    "    print(class_report)\n",
    "    \n",
    "    # Return the metrics as a dictionary\n",
    "    metrics = {\n",
    "        'accuracy': accuracy,\n",
    "        'precision': precision,\n",
    "        'recall': recall,\n",
    "        'f1_score': f1,\n",
    "        'confusion_matrix': conf_matrix,\n",
    "        'classification_report': class_report\n",
    "    }\n",
    "    \n",
    "    return metrics"
   ]
  },
  {
   "cell_type": "code",
   "execution_count": 121,
   "metadata": {
    "datalore": {
     "hide_input_from_viewers": false,
     "hide_output_from_viewers": false,
     "node_id": "ttwddSwTzwnWMWCOufdvek",
     "report_properties": {
      "relativeY": 0,
      "rowId": "X1hVEEYpsqNqzW6ZvpC0ih"
     },
     "type": "CODE"
    }
   },
   "outputs": [],
   "source": [
    "# Function to fit model using GridSearchCV\n",
    "def fitModel(trainX, testX, trainY, testY, model_name, model_algo, params, CV):\n",
    "    \"\"\"\n",
    "    Fits a machine learning model using GridSearchCV, refits it with the best parameters,\n",
    "    evaluates it on both training and test data, and stores the evaluation metrics.\n",
    "\n",
    "    Parameters:\n",
    "    - trainX: Training features.\n",
    "    - testX: Test features.\n",
    "    - trainY: Training labels.\n",
    "    - testY: Test labels.\n",
    "    - model_name: Name of the model (string).\n",
    "    - model_algo: Machine learning algorithm (estimator).\n",
    "    - params: Dictionary of hyperparameters to tune.\n",
    "    - CV: Number of cross-validation folds.\n",
    "\n",
    "    Returns:\n",
    "    - best_model: The model fitted with the best parameters.\n",
    "    - best_params: Best hyperparameters found by GridSearchCV.\n",
    "    - test_metrics: Evaluation metrics on the test set.\n",
    "    \"\"\"\n",
    "\n",
    "    np.random.seed(10)\n",
    "\n",
    "    print(f\"{'-'*75}\")\n",
    "    print(\"Information\")\n",
    "    print(f\"{'-'*75}\")\n",
    "    print(f\"Fitting for Model: {model_name}\")\n",
    "    \n",
    "    grid = GridSearchCV(\n",
    "        estimator=model_algo,\n",
    "        param_grid=params,\n",
    "        scoring='accuracy',\n",
    "        n_jobs=-1,\n",
    "        cv=CV,\n",
    "        verbose=1\n",
    "    )\n",
    "\n",
    "    res = grid.fit(trainX, trainY)\n",
    "    print(\"Model fitting completed.\")\n",
    "    print(f\"{'-'*75}\")\n",
    "\n",
    "    best_params = res.best_params_\n",
    "    print(f\"Found best parameters for model {model_name}: {best_params}\")\n",
    "    print(f\"{'-'*75}\")\n",
    "\n",
    "    # Refit the model with the best parameters\n",
    "    model_algo.set_params(**best_params)\n",
    "    model_algo.fit(trainX, trainY)\n",
    "    print(f\"Completed refitting the model {model_name} with best parameters.\")\n",
    "    print(f\"{'-'*75}\")\n",
    "\n",
    "    # Evaluate on the training data\n",
    "    print(f\"Evaluating {model_name} on the training data.\")\n",
    "    trainY_pred = model_algo.predict(trainX)\n",
    "    print(f\"Evaluation metrics for {model_name} on the training data:\")\n",
    "    train_metrics = evaluate_model(trainY, trainY_pred)\n",
    "    print(f\"{'-'*75}\")\n",
    "\n",
    "    # Evaluate on the test data\n",
    "    print(f\"Evaluating {model_name} on the test data.\")\n",
    "    testY_pred = model_algo.predict(testX)\n",
    "    print(f\"Evaluation metrics for {model_name} on the test data:\")\n",
    "    test_metrics = evaluate_model(testY, testY_pred)\n",
    "    print(f\"{'-'*75}\")\n",
    "\n",
    "    test_accuracy = test_metrics['accuracy']\n",
    "    if test_accuracy > 0.80:\n",
    "        model_filename = f\"./Models/{model_name}.pkl\"\n",
    "        with open(model_filename, 'wb') as f:\n",
    "            pickle.dump(model_algo, f)\n",
    "        print(f\"Model {model_name} saved as '{model_name}.pkl'\")\n",
    "\n",
    "    return model_algo, best_params, test_metrics"
   ]
  },
  {
   "cell_type": "code",
   "execution_count": 122,
   "metadata": {
    "datalore": {
     "hide_input_from_viewers": false,
     "hide_output_from_viewers": false,
     "node_id": "CiuVu4B30FyVRo6uYjLw8z",
     "report_properties": {
      "relativeY": 0,
      "rowId": "HTsi8Exz8A1le5cNK1mMS5"
     },
     "type": "CODE"
    }
   },
   "outputs": [],
   "source": [
    "# Define models and their hyperparameters\n",
    "models = {\n",
    "    'RandomForest': {\n",
    "        'model': RandomForestClassifier(),\n",
    "        'params': {\n",
    "            'n_estimators': [10, 50, 100, 500],\n",
    "            'max_depth': [None, 10, 20, 30]\n",
    "        }\n",
    "    },\n",
    "    'DecisionTree': {\n",
    "        'model': DecisionTreeClassifier(),\n",
    "        'params': {\n",
    "            'max_depth': [None, 10, 20, 30],\n",
    "            'min_samples_split': [2, 10, 20]\n",
    "        }\n",
    "    },\n",
    "    'XGBoost': {\n",
    "        'model': XGBClassifier(),\n",
    "        'params': {\n",
    "            'n_estimators': [10, 50, 100],\n",
    "            'max_depth': [3, 6, 9],\n",
    "            'learning_rate': [0.01, 0.1, 0.2]\n",
    "        }\n",
    "    }\n",
    "}"
   ]
  },
  {
   "cell_type": "code",
   "execution_count": 123,
   "metadata": {
    "datalore": {
     "hide_input_from_viewers": false,
     "hide_output_from_viewers": false,
     "node_id": "LFY9inPO2bmukioG6FiMs7",
     "report_properties": {
      "relativeY": 0,
      "rowId": "eYC1xGU72fMaRMggP6TsZ6"
     },
     "type": "CODE"
    }
   },
   "outputs": [
    {
     "name": "stdout",
     "output_type": "stream",
     "text": [
      "---------------------------------------------------------------------------\n",
      "Information\n",
      "---------------------------------------------------------------------------\n",
      "Fitting for Model: RandomForest\n",
      "Fitting 5 folds for each of 16 candidates, totalling 80 fits\n",
      "Model fitting completed.\n",
      "---------------------------------------------------------------------------\n",
      "Found best parameters for model RandomForest: {'max_depth': 10, 'n_estimators': 500}\n",
      "---------------------------------------------------------------------------\n",
      "Completed refitting the model RandomForest with best parameters.\n",
      "---------------------------------------------------------------------------\n",
      "Evaluating RandomForest on the training data.\n",
      "Evaluation metrics for RandomForest on the training data:\n",
      "Model Evaluation Metrics:\n",
      "------------------------------\n",
      "Accuracy: 0.9700\n",
      "Precision: 0.9706\n",
      "Recall: 0.9700\n",
      "F1 Score: 0.9697\n",
      "\n",
      "Confusion Matrix:\n",
      "[[303   0   6]\n",
      " [  9  82   3]\n",
      " [  6   0 391]]\n",
      "\n",
      "Classification Report:\n",
      "              precision    recall  f1-score   support\n",
      "\n",
      "           0       0.95      0.98      0.97       309\n",
      "           1       1.00      0.87      0.93        94\n",
      "           2       0.98      0.98      0.98       397\n",
      "\n",
      "    accuracy                           0.97       800\n",
      "   macro avg       0.98      0.95      0.96       800\n",
      "weighted avg       0.97      0.97      0.97       800\n",
      "\n",
      "---------------------------------------------------------------------------\n",
      "Evaluating RandomForest on the test data.\n",
      "Evaluation metrics for RandomForest on the test data:\n",
      "Model Evaluation Metrics:\n",
      "------------------------------\n",
      "Accuracy: 0.8950\n",
      "Precision: 0.8895\n",
      "Recall: 0.8950\n",
      "F1 Score: 0.8889\n",
      "\n",
      "Confusion Matrix:\n",
      "[[73  3  1]\n",
      " [ 5 13  7]\n",
      " [ 4  1 93]]\n",
      "\n",
      "Classification Report:\n",
      "              precision    recall  f1-score   support\n",
      "\n",
      "           0       0.89      0.95      0.92        77\n",
      "           1       0.76      0.52      0.62        25\n",
      "           2       0.92      0.95      0.93        98\n",
      "\n",
      "    accuracy                           0.90       200\n",
      "   macro avg       0.86      0.81      0.82       200\n",
      "weighted avg       0.89      0.90      0.89       200\n",
      "\n",
      "---------------------------------------------------------------------------\n",
      "Model RandomForest saved as 'RandomForest.pkl'\n",
      "---------------------------------------------------------------------------\n",
      "Information\n",
      "---------------------------------------------------------------------------\n",
      "Fitting for Model: DecisionTree\n",
      "Fitting 5 folds for each of 12 candidates, totalling 60 fits\n",
      "Model fitting completed.\n",
      "---------------------------------------------------------------------------\n",
      "Found best parameters for model DecisionTree: {'max_depth': None, 'min_samples_split': 20}\n",
      "---------------------------------------------------------------------------\n",
      "Completed refitting the model DecisionTree with best parameters.\n",
      "---------------------------------------------------------------------------\n",
      "Evaluating DecisionTree on the training data.\n",
      "Evaluation metrics for DecisionTree on the training data:\n",
      "Model Evaluation Metrics:\n",
      "------------------------------\n",
      "Accuracy: 0.9363\n",
      "Precision: 0.9363\n",
      "Recall: 0.9363\n",
      "F1 Score: 0.9352\n",
      "\n",
      "Confusion Matrix:\n",
      "[[295   2  12]\n",
      " [ 13  72   9]\n",
      " [ 12   3 382]]\n",
      "\n",
      "Classification Report:\n",
      "              precision    recall  f1-score   support\n",
      "\n",
      "           0       0.92      0.95      0.94       309\n",
      "           1       0.94      0.77      0.84        94\n",
      "           2       0.95      0.96      0.95       397\n",
      "\n",
      "    accuracy                           0.94       800\n",
      "   macro avg       0.93      0.89      0.91       800\n",
      "weighted avg       0.94      0.94      0.94       800\n",
      "\n",
      "---------------------------------------------------------------------------\n",
      "Evaluating DecisionTree on the test data.\n",
      "Evaluation metrics for DecisionTree on the test data:\n",
      "Model Evaluation Metrics:\n",
      "------------------------------\n",
      "Accuracy: 0.8800\n",
      "Precision: 0.8743\n",
      "Recall: 0.8800\n",
      "F1 Score: 0.8744\n",
      "\n",
      "Confusion Matrix:\n",
      "[[69  3  5]\n",
      " [ 5 13  7]\n",
      " [ 2  2 94]]\n",
      "\n",
      "Classification Report:\n",
      "              precision    recall  f1-score   support\n",
      "\n",
      "           0       0.91      0.90      0.90        77\n",
      "           1       0.72      0.52      0.60        25\n",
      "           2       0.89      0.96      0.92        98\n",
      "\n",
      "    accuracy                           0.88       200\n",
      "   macro avg       0.84      0.79      0.81       200\n",
      "weighted avg       0.87      0.88      0.87       200\n",
      "\n",
      "---------------------------------------------------------------------------\n",
      "Model DecisionTree saved as 'DecisionTree.pkl'\n",
      "---------------------------------------------------------------------------\n",
      "Information\n",
      "---------------------------------------------------------------------------\n",
      "Fitting for Model: XGBoost\n",
      "Fitting 5 folds for each of 27 candidates, totalling 135 fits\n",
      "Model fitting completed.\n",
      "---------------------------------------------------------------------------\n",
      "Found best parameters for model XGBoost: {'learning_rate': 0.01, 'max_depth': 3, 'n_estimators': 100}\n",
      "---------------------------------------------------------------------------\n",
      "Completed refitting the model XGBoost with best parameters.\n",
      "---------------------------------------------------------------------------\n",
      "Evaluating XGBoost on the training data.\n",
      "Evaluation metrics for XGBoost on the training data:\n",
      "Model Evaluation Metrics:\n",
      "------------------------------\n",
      "Accuracy: 0.9250\n",
      "Precision: 0.9248\n",
      "Recall: 0.9250\n",
      "F1 Score: 0.9232\n",
      "\n",
      "Confusion Matrix:\n",
      "[[291   3  15]\n",
      " [ 15  67  12]\n",
      " [ 12   3 382]]\n",
      "\n",
      "Classification Report:\n",
      "              precision    recall  f1-score   support\n",
      "\n",
      "           0       0.92      0.94      0.93       309\n",
      "           1       0.92      0.71      0.80        94\n",
      "           2       0.93      0.96      0.95       397\n",
      "\n",
      "    accuracy                           0.93       800\n",
      "   macro avg       0.92      0.87      0.89       800\n",
      "weighted avg       0.92      0.93      0.92       800\n",
      "\n",
      "---------------------------------------------------------------------------\n",
      "Evaluating XGBoost on the test data.\n",
      "Evaluation metrics for XGBoost on the test data:\n",
      "Model Evaluation Metrics:\n",
      "------------------------------\n",
      "Accuracy: 0.9000\n",
      "Precision: 0.8983\n",
      "Recall: 0.9000\n",
      "F1 Score: 0.8931\n",
      "\n",
      "Confusion Matrix:\n",
      "[[73  2  2]\n",
      " [ 5 13  7]\n",
      " [ 4  0 94]]\n",
      "\n",
      "Classification Report:\n",
      "              precision    recall  f1-score   support\n",
      "\n",
      "           0       0.89      0.95      0.92        77\n",
      "           1       0.87      0.52      0.65        25\n",
      "           2       0.91      0.96      0.94        98\n",
      "\n",
      "    accuracy                           0.90       200\n",
      "   macro avg       0.89      0.81      0.83       200\n",
      "weighted avg       0.90      0.90      0.89       200\n",
      "\n",
      "---------------------------------------------------------------------------\n",
      "Model XGBoost saved as 'XGBoost.pkl'\n",
      "\n",
      "Model :  RandomForest\n",
      "Best Parameters:   :   {'max_depth': 10, 'n_estimators': 500}\n",
      "Test Metrics   :   {'accuracy': 0.895, 'precision': 0.8895202565450232, 'recall': 0.895, 'f1_score': 0.8888929147083126, 'confusion_matrix': array([[73,  3,  1],\n",
      "       [ 5, 13,  7],\n",
      "       [ 4,  1, 93]], dtype=int64), 'classification_report': '              precision    recall  f1-score   support\\n\\n           0       0.89      0.95      0.92        77\\n           1       0.76      0.52      0.62        25\\n           2       0.92      0.95      0.93        98\\n\\n    accuracy                           0.90       200\\n   macro avg       0.86      0.81      0.82       200\\nweighted avg       0.89      0.90      0.89       200\\n'}\n",
      "\n",
      "Model :  DecisionTree\n",
      "Best Parameters:   :   {'max_depth': None, 'min_samples_split': 20}\n",
      "Test Metrics   :   {'accuracy': 0.88, 'precision': 0.8743455533487807, 'recall': 0.88, 'f1_score': 0.874404924760602, 'confusion_matrix': array([[69,  3,  5],\n",
      "       [ 5, 13,  7],\n",
      "       [ 2,  2, 94]], dtype=int64), 'classification_report': '              precision    recall  f1-score   support\\n\\n           0       0.91      0.90      0.90        77\\n           1       0.72      0.52      0.60        25\\n           2       0.89      0.96      0.92        98\\n\\n    accuracy                           0.88       200\\n   macro avg       0.84      0.79      0.81       200\\nweighted avg       0.87      0.88      0.87       200\\n'}\n",
      "\n",
      "Model :  XGBoost\n",
      "Best Parameters:   :   {'learning_rate': 0.01, 'max_depth': 3, 'n_estimators': 100}\n",
      "Test Metrics   :   {'accuracy': 0.9, 'precision': 0.8982617017917752, 'recall': 0.9, 'f1_score': 0.8930804702900591, 'confusion_matrix': array([[73,  2,  2],\n",
      "       [ 5, 13,  7],\n",
      "       [ 4,  0, 94]], dtype=int64), 'classification_report': '              precision    recall  f1-score   support\\n\\n           0       0.89      0.95      0.92        77\\n           1       0.87      0.52      0.65        25\\n           2       0.91      0.96      0.94        98\\n\\n    accuracy                           0.90       200\\n   macro avg       0.89      0.81      0.83       200\\nweighted avg       0.90      0.90      0.89       200\\n'}\n"
     ]
    }
   ],
   "source": [
    "model_results = {}\n",
    "\n",
    "for model_name, model_info in models.items():\n",
    "    model_algo = model_info['model']\n",
    "    params = model_info['params']\n",
    "\n",
    "    best_model, best_params, test_metrics = fitModel(trainX,testX,\n",
    "                                                     trainY,testY, \n",
    "                                                     model_name, model_algo, \n",
    "                                                     params, CV=5)\n",
    "    model_results[model_name] = {\n",
    "        'best_model': best_model,\n",
    "        'best_params': best_params,\n",
    "        'test_metrics': test_metrics\n",
    "    }\n",
    "\n",
    "for model_name, result in model_results.items():\n",
    "    print(f\"\\nModel :  {model_name}\")\n",
    "    print(f\"Best Parameters:   :   {result['best_params']}\")\n",
    "    print(f\"Test Metrics   :   {result['test_metrics']}\")"
   ]
  },
  {
   "cell_type": "code",
   "execution_count": 124,
   "metadata": {
    "datalore": {
     "hide_input_from_viewers": false,
     "hide_output_from_viewers": false,
     "node_id": "TcmcjWKu3qStRSPdPWAeVg",
     "report_properties": {
      "relativeY": 0,
      "rowId": "xN3RD5fadJOYPgjvODjNCV"
     },
     "type": "CODE"
    }
   },
   "outputs": [],
   "source": [
    "def createDNNmodel(input_dim, output_dim):\n",
    "\n",
    "    np.random.seed(10)\n",
    "\n",
    "    model = Sequential()\n",
    "\n",
    "    # Hidden Layers\n",
    "    model = Sequential()\n",
    "    model.add(Dense(256, input_dim=input_dim, activation='relu', kernel_regularizer=tf.keras.regularizers.l2(0.01)))\n",
    "    model.add(BatchNormalization())\n",
    "    model.add(Dropout(0.5))\n",
    "    model.add(Dense(128, activation='relu', kernel_regularizer=tf.keras.regularizers.l2(0.01)))\n",
    "    model.add(BatchNormalization())\n",
    "    model.add(Dropout(0.5))\n",
    "    model.add(Dense(64, activation='relu', kernel_regularizer=tf.keras.regularizers.l2(0.01)))\n",
    "    model.add(BatchNormalization())\n",
    "    model.add(Dropout(0.5))\n",
    "    model.add(Dense(32, activation='relu', kernel_regularizer=tf.keras.regularizers.l2(0.01)))\n",
    "    model.add(Dropout(0.5))\n",
    "    model.add(Dense(32, activation='relu'))\n",
    "\n",
    "    # Output Layer\n",
    "    model.add(Dense(output_dim, activation='softmax'))\n",
    "\n",
    "    # Model Compile\n",
    "    model.compile(optimizer='adam',\n",
    "                  loss='categorical_crossentropy',\n",
    "                  metrics=['accuracy'])\n",
    "    \n",
    "    return model"
   ]
  },
  {
   "cell_type": "code",
   "execution_count": 125,
   "metadata": {
    "datalore": {
     "hide_input_from_viewers": false,
     "hide_output_from_viewers": false,
     "node_id": "EbX3MWBYOzBX6obu8muUU4",
     "report_properties": {
      "relativeY": 0,
      "rowId": "xGwWh5JT7ytKrDIaPISotv"
     },
     "type": "CODE"
    }
   },
   "outputs": [
    {
     "data": {
      "text/html": [
       "<pre style=\"white-space:pre;overflow-x:auto;line-height:normal;font-family:Menlo,'DejaVu Sans Mono',consolas,'Courier New',monospace\"><span style=\"font-weight: bold\">Model: \"sequential_5\"</span>\n",
       "</pre>\n"
      ],
      "text/plain": [
       "\u001b[1mModel: \"sequential_5\"\u001b[0m\n"
      ]
     },
     "metadata": {},
     "output_type": "display_data"
    },
    {
     "data": {
      "text/html": [
       "<pre style=\"white-space:pre;overflow-x:auto;line-height:normal;font-family:Menlo,'DejaVu Sans Mono',consolas,'Courier New',monospace\">┏━━━━━━━━━━━━━━━━━━━━━━━━━━━━━━━━━┳━━━━━━━━━━━━━━━━━━━━━━━━┳━━━━━━━━━━━━━━━┓\n",
       "┃<span style=\"font-weight: bold\"> Layer (type)                    </span>┃<span style=\"font-weight: bold\"> Output Shape           </span>┃<span style=\"font-weight: bold\">       Param # </span>┃\n",
       "┡━━━━━━━━━━━━━━━━━━━━━━━━━━━━━━━━━╇━━━━━━━━━━━━━━━━━━━━━━━━╇━━━━━━━━━━━━━━━┩\n",
       "│ dense_12 (<span style=\"color: #0087ff; text-decoration-color: #0087ff\">Dense</span>)                │ (<span style=\"color: #00d7ff; text-decoration-color: #00d7ff\">None</span>, <span style=\"color: #00af00; text-decoration-color: #00af00\">256</span>)            │         <span style=\"color: #00af00; text-decoration-color: #00af00\">7,680</span> │\n",
       "├─────────────────────────────────┼────────────────────────┼───────────────┤\n",
       "│ batch_normalization_6           │ (<span style=\"color: #00d7ff; text-decoration-color: #00d7ff\">None</span>, <span style=\"color: #00af00; text-decoration-color: #00af00\">256</span>)            │         <span style=\"color: #00af00; text-decoration-color: #00af00\">1,024</span> │\n",
       "│ (<span style=\"color: #0087ff; text-decoration-color: #0087ff\">BatchNormalization</span>)            │                        │               │\n",
       "├─────────────────────────────────┼────────────────────────┼───────────────┤\n",
       "│ dropout_8 (<span style=\"color: #0087ff; text-decoration-color: #0087ff\">Dropout</span>)             │ (<span style=\"color: #00d7ff; text-decoration-color: #00d7ff\">None</span>, <span style=\"color: #00af00; text-decoration-color: #00af00\">256</span>)            │             <span style=\"color: #00af00; text-decoration-color: #00af00\">0</span> │\n",
       "├─────────────────────────────────┼────────────────────────┼───────────────┤\n",
       "│ dense_13 (<span style=\"color: #0087ff; text-decoration-color: #0087ff\">Dense</span>)                │ (<span style=\"color: #00d7ff; text-decoration-color: #00d7ff\">None</span>, <span style=\"color: #00af00; text-decoration-color: #00af00\">128</span>)            │        <span style=\"color: #00af00; text-decoration-color: #00af00\">32,896</span> │\n",
       "├─────────────────────────────────┼────────────────────────┼───────────────┤\n",
       "│ batch_normalization_7           │ (<span style=\"color: #00d7ff; text-decoration-color: #00d7ff\">None</span>, <span style=\"color: #00af00; text-decoration-color: #00af00\">128</span>)            │           <span style=\"color: #00af00; text-decoration-color: #00af00\">512</span> │\n",
       "│ (<span style=\"color: #0087ff; text-decoration-color: #0087ff\">BatchNormalization</span>)            │                        │               │\n",
       "├─────────────────────────────────┼────────────────────────┼───────────────┤\n",
       "│ dropout_9 (<span style=\"color: #0087ff; text-decoration-color: #0087ff\">Dropout</span>)             │ (<span style=\"color: #00d7ff; text-decoration-color: #00d7ff\">None</span>, <span style=\"color: #00af00; text-decoration-color: #00af00\">128</span>)            │             <span style=\"color: #00af00; text-decoration-color: #00af00\">0</span> │\n",
       "├─────────────────────────────────┼────────────────────────┼───────────────┤\n",
       "│ dense_14 (<span style=\"color: #0087ff; text-decoration-color: #0087ff\">Dense</span>)                │ (<span style=\"color: #00d7ff; text-decoration-color: #00d7ff\">None</span>, <span style=\"color: #00af00; text-decoration-color: #00af00\">64</span>)             │         <span style=\"color: #00af00; text-decoration-color: #00af00\">8,256</span> │\n",
       "├─────────────────────────────────┼────────────────────────┼───────────────┤\n",
       "│ batch_normalization_8           │ (<span style=\"color: #00d7ff; text-decoration-color: #00d7ff\">None</span>, <span style=\"color: #00af00; text-decoration-color: #00af00\">64</span>)             │           <span style=\"color: #00af00; text-decoration-color: #00af00\">256</span> │\n",
       "│ (<span style=\"color: #0087ff; text-decoration-color: #0087ff\">BatchNormalization</span>)            │                        │               │\n",
       "├─────────────────────────────────┼────────────────────────┼───────────────┤\n",
       "│ dropout_10 (<span style=\"color: #0087ff; text-decoration-color: #0087ff\">Dropout</span>)            │ (<span style=\"color: #00d7ff; text-decoration-color: #00d7ff\">None</span>, <span style=\"color: #00af00; text-decoration-color: #00af00\">64</span>)             │             <span style=\"color: #00af00; text-decoration-color: #00af00\">0</span> │\n",
       "├─────────────────────────────────┼────────────────────────┼───────────────┤\n",
       "│ dense_15 (<span style=\"color: #0087ff; text-decoration-color: #0087ff\">Dense</span>)                │ (<span style=\"color: #00d7ff; text-decoration-color: #00d7ff\">None</span>, <span style=\"color: #00af00; text-decoration-color: #00af00\">32</span>)             │         <span style=\"color: #00af00; text-decoration-color: #00af00\">2,080</span> │\n",
       "├─────────────────────────────────┼────────────────────────┼───────────────┤\n",
       "│ dropout_11 (<span style=\"color: #0087ff; text-decoration-color: #0087ff\">Dropout</span>)            │ (<span style=\"color: #00d7ff; text-decoration-color: #00d7ff\">None</span>, <span style=\"color: #00af00; text-decoration-color: #00af00\">32</span>)             │             <span style=\"color: #00af00; text-decoration-color: #00af00\">0</span> │\n",
       "├─────────────────────────────────┼────────────────────────┼───────────────┤\n",
       "│ dense_16 (<span style=\"color: #0087ff; text-decoration-color: #0087ff\">Dense</span>)                │ (<span style=\"color: #00d7ff; text-decoration-color: #00d7ff\">None</span>, <span style=\"color: #00af00; text-decoration-color: #00af00\">32</span>)             │         <span style=\"color: #00af00; text-decoration-color: #00af00\">1,056</span> │\n",
       "├─────────────────────────────────┼────────────────────────┼───────────────┤\n",
       "│ dense_17 (<span style=\"color: #0087ff; text-decoration-color: #0087ff\">Dense</span>)                │ (<span style=\"color: #00d7ff; text-decoration-color: #00d7ff\">None</span>, <span style=\"color: #00af00; text-decoration-color: #00af00\">3</span>)              │            <span style=\"color: #00af00; text-decoration-color: #00af00\">99</span> │\n",
       "└─────────────────────────────────┴────────────────────────┴───────────────┘\n",
       "</pre>\n"
      ],
      "text/plain": [
       "┏━━━━━━━━━━━━━━━━━━━━━━━━━━━━━━━━━┳━━━━━━━━━━━━━━━━━━━━━━━━┳━━━━━━━━━━━━━━━┓\n",
       "┃\u001b[1m \u001b[0m\u001b[1mLayer (type)                   \u001b[0m\u001b[1m \u001b[0m┃\u001b[1m \u001b[0m\u001b[1mOutput Shape          \u001b[0m\u001b[1m \u001b[0m┃\u001b[1m \u001b[0m\u001b[1m      Param #\u001b[0m\u001b[1m \u001b[0m┃\n",
       "┡━━━━━━━━━━━━━━━━━━━━━━━━━━━━━━━━━╇━━━━━━━━━━━━━━━━━━━━━━━━╇━━━━━━━━━━━━━━━┩\n",
       "│ dense_12 (\u001b[38;5;33mDense\u001b[0m)                │ (\u001b[38;5;45mNone\u001b[0m, \u001b[38;5;34m256\u001b[0m)            │         \u001b[38;5;34m7,680\u001b[0m │\n",
       "├─────────────────────────────────┼────────────────────────┼───────────────┤\n",
       "│ batch_normalization_6           │ (\u001b[38;5;45mNone\u001b[0m, \u001b[38;5;34m256\u001b[0m)            │         \u001b[38;5;34m1,024\u001b[0m │\n",
       "│ (\u001b[38;5;33mBatchNormalization\u001b[0m)            │                        │               │\n",
       "├─────────────────────────────────┼────────────────────────┼───────────────┤\n",
       "│ dropout_8 (\u001b[38;5;33mDropout\u001b[0m)             │ (\u001b[38;5;45mNone\u001b[0m, \u001b[38;5;34m256\u001b[0m)            │             \u001b[38;5;34m0\u001b[0m │\n",
       "├─────────────────────────────────┼────────────────────────┼───────────────┤\n",
       "│ dense_13 (\u001b[38;5;33mDense\u001b[0m)                │ (\u001b[38;5;45mNone\u001b[0m, \u001b[38;5;34m128\u001b[0m)            │        \u001b[38;5;34m32,896\u001b[0m │\n",
       "├─────────────────────────────────┼────────────────────────┼───────────────┤\n",
       "│ batch_normalization_7           │ (\u001b[38;5;45mNone\u001b[0m, \u001b[38;5;34m128\u001b[0m)            │           \u001b[38;5;34m512\u001b[0m │\n",
       "│ (\u001b[38;5;33mBatchNormalization\u001b[0m)            │                        │               │\n",
       "├─────────────────────────────────┼────────────────────────┼───────────────┤\n",
       "│ dropout_9 (\u001b[38;5;33mDropout\u001b[0m)             │ (\u001b[38;5;45mNone\u001b[0m, \u001b[38;5;34m128\u001b[0m)            │             \u001b[38;5;34m0\u001b[0m │\n",
       "├─────────────────────────────────┼────────────────────────┼───────────────┤\n",
       "│ dense_14 (\u001b[38;5;33mDense\u001b[0m)                │ (\u001b[38;5;45mNone\u001b[0m, \u001b[38;5;34m64\u001b[0m)             │         \u001b[38;5;34m8,256\u001b[0m │\n",
       "├─────────────────────────────────┼────────────────────────┼───────────────┤\n",
       "│ batch_normalization_8           │ (\u001b[38;5;45mNone\u001b[0m, \u001b[38;5;34m64\u001b[0m)             │           \u001b[38;5;34m256\u001b[0m │\n",
       "│ (\u001b[38;5;33mBatchNormalization\u001b[0m)            │                        │               │\n",
       "├─────────────────────────────────┼────────────────────────┼───────────────┤\n",
       "│ dropout_10 (\u001b[38;5;33mDropout\u001b[0m)            │ (\u001b[38;5;45mNone\u001b[0m, \u001b[38;5;34m64\u001b[0m)             │             \u001b[38;5;34m0\u001b[0m │\n",
       "├─────────────────────────────────┼────────────────────────┼───────────────┤\n",
       "│ dense_15 (\u001b[38;5;33mDense\u001b[0m)                │ (\u001b[38;5;45mNone\u001b[0m, \u001b[38;5;34m32\u001b[0m)             │         \u001b[38;5;34m2,080\u001b[0m │\n",
       "├─────────────────────────────────┼────────────────────────┼───────────────┤\n",
       "│ dropout_11 (\u001b[38;5;33mDropout\u001b[0m)            │ (\u001b[38;5;45mNone\u001b[0m, \u001b[38;5;34m32\u001b[0m)             │             \u001b[38;5;34m0\u001b[0m │\n",
       "├─────────────────────────────────┼────────────────────────┼───────────────┤\n",
       "│ dense_16 (\u001b[38;5;33mDense\u001b[0m)                │ (\u001b[38;5;45mNone\u001b[0m, \u001b[38;5;34m32\u001b[0m)             │         \u001b[38;5;34m1,056\u001b[0m │\n",
       "├─────────────────────────────────┼────────────────────────┼───────────────┤\n",
       "│ dense_17 (\u001b[38;5;33mDense\u001b[0m)                │ (\u001b[38;5;45mNone\u001b[0m, \u001b[38;5;34m3\u001b[0m)              │            \u001b[38;5;34m99\u001b[0m │\n",
       "└─────────────────────────────────┴────────────────────────┴───────────────┘\n"
      ]
     },
     "metadata": {},
     "output_type": "display_data"
    },
    {
     "data": {
      "text/html": [
       "<pre style=\"white-space:pre;overflow-x:auto;line-height:normal;font-family:Menlo,'DejaVu Sans Mono',consolas,'Courier New',monospace\"><span style=\"font-weight: bold\"> Total params: </span><span style=\"color: #00af00; text-decoration-color: #00af00\">53,859</span> (210.39 KB)\n",
       "</pre>\n"
      ],
      "text/plain": [
       "\u001b[1m Total params: \u001b[0m\u001b[38;5;34m53,859\u001b[0m (210.39 KB)\n"
      ]
     },
     "metadata": {},
     "output_type": "display_data"
    },
    {
     "data": {
      "text/html": [
       "<pre style=\"white-space:pre;overflow-x:auto;line-height:normal;font-family:Menlo,'DejaVu Sans Mono',consolas,'Courier New',monospace\"><span style=\"font-weight: bold\"> Trainable params: </span><span style=\"color: #00af00; text-decoration-color: #00af00\">52,963</span> (206.89 KB)\n",
       "</pre>\n"
      ],
      "text/plain": [
       "\u001b[1m Trainable params: \u001b[0m\u001b[38;5;34m52,963\u001b[0m (206.89 KB)\n"
      ]
     },
     "metadata": {},
     "output_type": "display_data"
    },
    {
     "data": {
      "text/html": [
       "<pre style=\"white-space:pre;overflow-x:auto;line-height:normal;font-family:Menlo,'DejaVu Sans Mono',consolas,'Courier New',monospace\"><span style=\"font-weight: bold\"> Non-trainable params: </span><span style=\"color: #00af00; text-decoration-color: #00af00\">896</span> (3.50 KB)\n",
       "</pre>\n"
      ],
      "text/plain": [
       "\u001b[1m Non-trainable params: \u001b[0m\u001b[38;5;34m896\u001b[0m (3.50 KB)\n"
      ]
     },
     "metadata": {},
     "output_type": "display_data"
    }
   ],
   "source": [
    "input_dim = trainX.shape[1]\n",
    "output_dim = 3\n",
    "\n",
    "model = createDNNmodel(input_dim, output_dim)\n",
    "\n",
    "model.summary()"
   ]
  },
  {
   "cell_type": "code",
   "execution_count": 126,
   "metadata": {
    "datalore": {
     "hide_input_from_viewers": false,
     "hide_output_from_viewers": false,
     "node_id": "gTap21eecyXCLfZczhDVry",
     "report_properties": {
      "relativeY": 0,
      "rowId": "AiujsGeVqOrWIfw6SEgQ8W"
     },
     "type": "CODE"
    }
   },
   "outputs": [],
   "source": [
    "trainY_encoded = to_categorical(trainY, num_classes=3)\n",
    "testY_encoded = to_categorical(testY, num_classes=3)"
   ]
  },
  {
   "cell_type": "code",
   "execution_count": 127,
   "metadata": {
    "datalore": {
     "hide_input_from_viewers": false,
     "hide_output_from_viewers": false,
     "node_id": "xNbh0UJqSJYBoN9jcVzF4y",
     "report_properties": {
      "relativeY": 0,
      "rowId": "64eieJDJcMxt2sezHA6cBW"
     },
     "type": "CODE"
    }
   },
   "outputs": [
    {
     "name": "stdout",
     "output_type": "stream",
     "text": [
      "Epoch 1/150\n",
      "\u001b[1m40/40\u001b[0m \u001b[32m━━━━━━━━━━━━━━━━━━━━\u001b[0m\u001b[37m\u001b[0m \u001b[1m5s\u001b[0m 13ms/step - accuracy: 0.4369 - loss: 4.5948 - val_accuracy: 0.5688 - val_loss: 3.8517 - learning_rate: 0.0010\n",
      "Epoch 2/150\n",
      "\u001b[1m40/40\u001b[0m \u001b[32m━━━━━━━━━━━━━━━━━━━━\u001b[0m\u001b[37m\u001b[0m \u001b[1m0s\u001b[0m 4ms/step - accuracy: 0.5717 - loss: 3.8045 - val_accuracy: 0.6375 - val_loss: 3.4360 - learning_rate: 0.0010\n",
      "Epoch 3/150\n",
      "\u001b[1m40/40\u001b[0m \u001b[32m━━━━━━━━━━━━━━━━━━━━\u001b[0m\u001b[37m\u001b[0m \u001b[1m0s\u001b[0m 4ms/step - accuracy: 0.6039 - loss: 3.4777 - val_accuracy: 0.7563 - val_loss: 3.1630 - learning_rate: 0.0010\n",
      "Epoch 4/150\n",
      "\u001b[1m40/40\u001b[0m \u001b[32m━━━━━━━━━━━━━━━━━━━━\u001b[0m\u001b[37m\u001b[0m \u001b[1m0s\u001b[0m 4ms/step - accuracy: 0.6406 - loss: 3.2378 - val_accuracy: 0.7812 - val_loss: 2.9908 - learning_rate: 0.0010\n",
      "Epoch 5/150\n",
      "\u001b[1m40/40\u001b[0m \u001b[32m━━━━━━━━━━━━━━━━━━━━\u001b[0m\u001b[37m\u001b[0m \u001b[1m0s\u001b[0m 4ms/step - accuracy: 0.6380 - loss: 3.0688 - val_accuracy: 0.7437 - val_loss: 2.8404 - learning_rate: 0.0010\n",
      "Epoch 6/150\n",
      "\u001b[1m40/40\u001b[0m \u001b[32m━━━━━━━━━━━━━━━━━━━━\u001b[0m\u001b[37m\u001b[0m \u001b[1m0s\u001b[0m 5ms/step - accuracy: 0.6716 - loss: 2.8581 - val_accuracy: 0.7750 - val_loss: 2.7050 - learning_rate: 0.0010\n",
      "Epoch 7/150\n",
      "\u001b[1m40/40\u001b[0m \u001b[32m━━━━━━━━━━━━━━━━━━━━\u001b[0m\u001b[37m\u001b[0m \u001b[1m0s\u001b[0m 4ms/step - accuracy: 0.6483 - loss: 2.7801 - val_accuracy: 0.8188 - val_loss: 2.5895 - learning_rate: 0.0010\n",
      "Epoch 8/150\n",
      "\u001b[1m40/40\u001b[0m \u001b[32m━━━━━━━━━━━━━━━━━━━━\u001b[0m\u001b[37m\u001b[0m \u001b[1m0s\u001b[0m 4ms/step - accuracy: 0.7083 - loss: 2.5758 - val_accuracy: 0.8125 - val_loss: 2.4132 - learning_rate: 0.0010\n",
      "Epoch 9/150\n",
      "\u001b[1m40/40\u001b[0m \u001b[32m━━━━━━━━━━━━━━━━━━━━\u001b[0m\u001b[37m\u001b[0m \u001b[1m0s\u001b[0m 4ms/step - accuracy: 0.7304 - loss: 2.4396 - val_accuracy: 0.8375 - val_loss: 2.2669 - learning_rate: 0.0010\n",
      "Epoch 10/150\n",
      "\u001b[1m40/40\u001b[0m \u001b[32m━━━━━━━━━━━━━━━━━━━━\u001b[0m\u001b[37m\u001b[0m \u001b[1m0s\u001b[0m 4ms/step - accuracy: 0.7323 - loss: 2.4325 - val_accuracy: 0.7625 - val_loss: 2.1908 - learning_rate: 0.0010\n",
      "Epoch 11/150\n",
      "\u001b[1m40/40\u001b[0m \u001b[32m━━━━━━━━━━━━━━━━━━━━\u001b[0m\u001b[37m\u001b[0m \u001b[1m0s\u001b[0m 4ms/step - accuracy: 0.6809 - loss: 2.3470 - val_accuracy: 0.8125 - val_loss: 2.0770 - learning_rate: 0.0010\n",
      "Epoch 12/150\n",
      "\u001b[1m40/40\u001b[0m \u001b[32m━━━━━━━━━━━━━━━━━━━━\u001b[0m\u001b[37m\u001b[0m \u001b[1m0s\u001b[0m 4ms/step - accuracy: 0.7273 - loss: 2.1499 - val_accuracy: 0.8062 - val_loss: 1.9806 - learning_rate: 0.0010\n",
      "Epoch 13/150\n",
      "\u001b[1m40/40\u001b[0m \u001b[32m━━━━━━━━━━━━━━━━━━━━\u001b[0m\u001b[37m\u001b[0m \u001b[1m0s\u001b[0m 4ms/step - accuracy: 0.7324 - loss: 2.1199 - val_accuracy: 0.8062 - val_loss: 1.8872 - learning_rate: 0.0010\n",
      "Epoch 14/150\n",
      "\u001b[1m40/40\u001b[0m \u001b[32m━━━━━━━━━━━━━━━━━━━━\u001b[0m\u001b[37m\u001b[0m \u001b[1m0s\u001b[0m 4ms/step - accuracy: 0.7244 - loss: 2.0111 - val_accuracy: 0.7937 - val_loss: 1.8082 - learning_rate: 0.0010\n",
      "Epoch 15/150\n",
      "\u001b[1m40/40\u001b[0m \u001b[32m━━━━━━━━━━━━━━━━━━━━\u001b[0m\u001b[37m\u001b[0m \u001b[1m0s\u001b[0m 4ms/step - accuracy: 0.7647 - loss: 1.8344 - val_accuracy: 0.8000 - val_loss: 1.7005 - learning_rate: 0.0010\n",
      "Epoch 16/150\n",
      "\u001b[1m40/40\u001b[0m \u001b[32m━━━━━━━━━━━━━━━━━━━━\u001b[0m\u001b[37m\u001b[0m \u001b[1m0s\u001b[0m 4ms/step - accuracy: 0.7410 - loss: 1.8086 - val_accuracy: 0.7750 - val_loss: 1.6852 - learning_rate: 0.0010\n",
      "Epoch 17/150\n",
      "\u001b[1m40/40\u001b[0m \u001b[32m━━━━━━━━━━━━━━━━━━━━\u001b[0m\u001b[37m\u001b[0m \u001b[1m0s\u001b[0m 4ms/step - accuracy: 0.7466 - loss: 1.7353 - val_accuracy: 0.8375 - val_loss: 1.5483 - learning_rate: 0.0010\n",
      "Epoch 18/150\n",
      "\u001b[1m40/40\u001b[0m \u001b[32m━━━━━━━━━━━━━━━━━━━━\u001b[0m\u001b[37m\u001b[0m \u001b[1m0s\u001b[0m 5ms/step - accuracy: 0.8043 - loss: 1.5890 - val_accuracy: 0.7937 - val_loss: 1.4851 - learning_rate: 0.0010\n",
      "Epoch 19/150\n",
      "\u001b[1m40/40\u001b[0m \u001b[32m━━━━━━━━━━━━━━━━━━━━\u001b[0m\u001b[37m\u001b[0m \u001b[1m0s\u001b[0m 4ms/step - accuracy: 0.7476 - loss: 1.6599 - val_accuracy: 0.7937 - val_loss: 1.4149 - learning_rate: 0.0010\n",
      "Epoch 20/150\n",
      "\u001b[1m40/40\u001b[0m \u001b[32m━━━━━━━━━━━━━━━━━━━━\u001b[0m\u001b[37m\u001b[0m \u001b[1m0s\u001b[0m 4ms/step - accuracy: 0.7733 - loss: 1.5091 - val_accuracy: 0.7937 - val_loss: 1.3568 - learning_rate: 0.0010\n",
      "Epoch 21/150\n",
      "\u001b[1m40/40\u001b[0m \u001b[32m━━━━━━━━━━━━━━━━━━━━\u001b[0m\u001b[37m\u001b[0m \u001b[1m0s\u001b[0m 4ms/step - accuracy: 0.7792 - loss: 1.4689 - val_accuracy: 0.8188 - val_loss: 1.2893 - learning_rate: 0.0010\n",
      "Epoch 22/150\n",
      "\u001b[1m40/40\u001b[0m \u001b[32m━━━━━━━━━━━━━━━━━━━━\u001b[0m\u001b[37m\u001b[0m \u001b[1m0s\u001b[0m 4ms/step - accuracy: 0.7868 - loss: 1.4033 - val_accuracy: 0.8313 - val_loss: 1.2080 - learning_rate: 0.0010\n",
      "Epoch 23/150\n",
      "\u001b[1m40/40\u001b[0m \u001b[32m━━━━━━━━━━━━━━━━━━━━\u001b[0m\u001b[37m\u001b[0m \u001b[1m0s\u001b[0m 4ms/step - accuracy: 0.7828 - loss: 1.3450 - val_accuracy: 0.8750 - val_loss: 1.1832 - learning_rate: 0.0010\n",
      "Epoch 24/150\n",
      "\u001b[1m40/40\u001b[0m \u001b[32m━━━━━━━━━━━━━━━━━━━━\u001b[0m\u001b[37m\u001b[0m \u001b[1m0s\u001b[0m 4ms/step - accuracy: 0.7944 - loss: 1.2748 - val_accuracy: 0.8562 - val_loss: 1.1566 - learning_rate: 0.0010\n",
      "Epoch 25/150\n",
      "\u001b[1m40/40\u001b[0m \u001b[32m━━━━━━━━━━━━━━━━━━━━\u001b[0m\u001b[37m\u001b[0m \u001b[1m0s\u001b[0m 3ms/step - accuracy: 0.7810 - loss: 1.2531 - val_accuracy: 0.8000 - val_loss: 1.1688 - learning_rate: 0.0010\n",
      "Epoch 26/150\n",
      "\u001b[1m40/40\u001b[0m \u001b[32m━━━━━━━━━━━━━━━━━━━━\u001b[0m\u001b[37m\u001b[0m \u001b[1m0s\u001b[0m 4ms/step - accuracy: 0.7781 - loss: 1.2621 - val_accuracy: 0.8813 - val_loss: 1.0218 - learning_rate: 0.0010\n",
      "Epoch 27/150\n",
      "\u001b[1m40/40\u001b[0m \u001b[32m━━━━━━━━━━━━━━━━━━━━\u001b[0m\u001b[37m\u001b[0m \u001b[1m0s\u001b[0m 4ms/step - accuracy: 0.7725 - loss: 1.2400 - val_accuracy: 0.9000 - val_loss: 0.9874 - learning_rate: 0.0010\n",
      "Epoch 28/150\n",
      "\u001b[1m40/40\u001b[0m \u001b[32m━━━━━━━━━━━━━━━━━━━━\u001b[0m\u001b[37m\u001b[0m \u001b[1m0s\u001b[0m 4ms/step - accuracy: 0.7574 - loss: 1.1580 - val_accuracy: 0.8750 - val_loss: 0.9517 - learning_rate: 0.0010\n",
      "Epoch 29/150\n",
      "\u001b[1m40/40\u001b[0m \u001b[32m━━━━━━━━━━━━━━━━━━━━\u001b[0m\u001b[37m\u001b[0m \u001b[1m0s\u001b[0m 4ms/step - accuracy: 0.7699 - loss: 1.1702 - val_accuracy: 0.8750 - val_loss: 0.9115 - learning_rate: 0.0010\n",
      "Epoch 30/150\n",
      "\u001b[1m40/40\u001b[0m \u001b[32m━━━━━━━━━━━━━━━━━━━━\u001b[0m\u001b[37m\u001b[0m \u001b[1m0s\u001b[0m 4ms/step - accuracy: 0.7822 - loss: 1.1262 - val_accuracy: 0.8750 - val_loss: 0.9065 - learning_rate: 0.0010\n",
      "Epoch 31/150\n",
      "\u001b[1m40/40\u001b[0m \u001b[32m━━━━━━━━━━━━━━━━━━━━\u001b[0m\u001b[37m\u001b[0m \u001b[1m0s\u001b[0m 4ms/step - accuracy: 0.8091 - loss: 1.0047 - val_accuracy: 0.8562 - val_loss: 0.8668 - learning_rate: 0.0010\n",
      "Epoch 32/150\n",
      "\u001b[1m40/40\u001b[0m \u001b[32m━━━━━━━━━━━━━━━━━━━━\u001b[0m\u001b[37m\u001b[0m \u001b[1m0s\u001b[0m 5ms/step - accuracy: 0.8143 - loss: 0.9748 - val_accuracy: 0.9312 - val_loss: 0.8018 - learning_rate: 0.0010\n",
      "Epoch 33/150\n",
      "\u001b[1m40/40\u001b[0m \u001b[32m━━━━━━━━━━━━━━━━━━━━\u001b[0m\u001b[37m\u001b[0m \u001b[1m0s\u001b[0m 3ms/step - accuracy: 0.8133 - loss: 0.9558 - val_accuracy: 0.9187 - val_loss: 0.8058 - learning_rate: 0.0010\n",
      "Epoch 34/150\n",
      "\u001b[1m40/40\u001b[0m \u001b[32m━━━━━━━━━━━━━━━━━━━━\u001b[0m\u001b[37m\u001b[0m \u001b[1m0s\u001b[0m 5ms/step - accuracy: 0.7904 - loss: 0.9289 - val_accuracy: 0.9312 - val_loss: 0.7638 - learning_rate: 0.0010\n",
      "Epoch 35/150\n",
      "\u001b[1m40/40\u001b[0m \u001b[32m━━━━━━━━━━━━━━━━━━━━\u001b[0m\u001b[37m\u001b[0m \u001b[1m0s\u001b[0m 4ms/step - accuracy: 0.7619 - loss: 0.9790 - val_accuracy: 0.9062 - val_loss: 0.7496 - learning_rate: 0.0010\n",
      "Epoch 36/150\n",
      "\u001b[1m40/40\u001b[0m \u001b[32m━━━━━━━━━━━━━━━━━━━━\u001b[0m\u001b[37m\u001b[0m \u001b[1m0s\u001b[0m 4ms/step - accuracy: 0.8525 - loss: 0.8484 - val_accuracy: 0.9062 - val_loss: 0.7105 - learning_rate: 0.0010\n",
      "Epoch 37/150\n",
      "\u001b[1m40/40\u001b[0m \u001b[32m━━━━━━━━━━━━━━━━━━━━\u001b[0m\u001b[37m\u001b[0m \u001b[1m0s\u001b[0m 3ms/step - accuracy: 0.8116 - loss: 0.9133 - val_accuracy: 0.9000 - val_loss: 0.7275 - learning_rate: 0.0010\n",
      "Epoch 38/150\n",
      "\u001b[1m40/40\u001b[0m \u001b[32m━━━━━━━━━━━━━━━━━━━━\u001b[0m\u001b[37m\u001b[0m \u001b[1m0s\u001b[0m 4ms/step - accuracy: 0.8311 - loss: 0.8348 - val_accuracy: 0.8938 - val_loss: 0.6769 - learning_rate: 0.0010\n",
      "Epoch 39/150\n",
      "\u001b[1m40/40\u001b[0m \u001b[32m━━━━━━━━━━━━━━━━━━━━\u001b[0m\u001b[37m\u001b[0m \u001b[1m0s\u001b[0m 3ms/step - accuracy: 0.8247 - loss: 0.8541 - val_accuracy: 0.8375 - val_loss: 0.7371 - learning_rate: 0.0010\n",
      "Epoch 40/150\n",
      "\u001b[1m40/40\u001b[0m \u001b[32m━━━━━━━━━━━━━━━━━━━━\u001b[0m\u001b[37m\u001b[0m \u001b[1m0s\u001b[0m 3ms/step - accuracy: 0.8023 - loss: 0.8582 - val_accuracy: 0.8687 - val_loss: 0.6783 - learning_rate: 0.0010\n",
      "Epoch 41/150\n",
      "\u001b[1m40/40\u001b[0m \u001b[32m━━━━━━━━━━━━━━━━━━━━\u001b[0m\u001b[37m\u001b[0m \u001b[1m0s\u001b[0m 4ms/step - accuracy: 0.8395 - loss: 0.7997 - val_accuracy: 0.8562 - val_loss: 0.6696 - learning_rate: 0.0010\n",
      "Epoch 42/150\n",
      "\u001b[1m40/40\u001b[0m \u001b[32m━━━━━━━━━━━━━━━━━━━━\u001b[0m\u001b[37m\u001b[0m \u001b[1m0s\u001b[0m 5ms/step - accuracy: 0.8445 - loss: 0.7960 - val_accuracy: 0.8750 - val_loss: 0.6667 - learning_rate: 0.0010\n",
      "Epoch 43/150\n",
      "\u001b[1m40/40\u001b[0m \u001b[32m━━━━━━━━━━━━━━━━━━━━\u001b[0m\u001b[37m\u001b[0m \u001b[1m0s\u001b[0m 4ms/step - accuracy: 0.7677 - loss: 0.9358 - val_accuracy: 0.9125 - val_loss: 0.6476 - learning_rate: 0.0010\n",
      "Epoch 44/150\n",
      "\u001b[1m40/40\u001b[0m \u001b[32m━━━━━━━━━━━━━━━━━━━━\u001b[0m\u001b[37m\u001b[0m \u001b[1m0s\u001b[0m 3ms/step - accuracy: 0.8050 - loss: 0.7798 - val_accuracy: 0.8625 - val_loss: 0.6662 - learning_rate: 0.0010\n",
      "Epoch 45/150\n",
      "\u001b[1m40/40\u001b[0m \u001b[32m━━━━━━━━━━━━━━━━━━━━\u001b[0m\u001b[37m\u001b[0m \u001b[1m0s\u001b[0m 3ms/step - accuracy: 0.8526 - loss: 0.7047 - val_accuracy: 0.8250 - val_loss: 0.6823 - learning_rate: 0.0010\n",
      "Epoch 46/150\n",
      "\u001b[1m40/40\u001b[0m \u001b[32m━━━━━━━━━━━━━━━━━━━━\u001b[0m\u001b[37m\u001b[0m \u001b[1m0s\u001b[0m 4ms/step - accuracy: 0.8563 - loss: 0.7412 - val_accuracy: 0.8813 - val_loss: 0.5992 - learning_rate: 0.0010\n",
      "Epoch 47/150\n",
      "\u001b[1m40/40\u001b[0m \u001b[32m━━━━━━━━━━━━━━━━━━━━\u001b[0m\u001b[37m\u001b[0m \u001b[1m0s\u001b[0m 4ms/step - accuracy: 0.8320 - loss: 0.7634 - val_accuracy: 0.9125 - val_loss: 0.5535 - learning_rate: 0.0010\n",
      "Epoch 48/150\n",
      "\u001b[1m40/40\u001b[0m \u001b[32m━━━━━━━━━━━━━━━━━━━━\u001b[0m\u001b[37m\u001b[0m \u001b[1m0s\u001b[0m 3ms/step - accuracy: 0.8335 - loss: 0.7211 - val_accuracy: 0.9312 - val_loss: 0.5700 - learning_rate: 0.0010\n",
      "Epoch 49/150\n",
      "\u001b[1m40/40\u001b[0m \u001b[32m━━━━━━━━━━━━━━━━━━━━\u001b[0m\u001b[37m\u001b[0m \u001b[1m0s\u001b[0m 3ms/step - accuracy: 0.8106 - loss: 0.8082 - val_accuracy: 0.8813 - val_loss: 0.6224 - learning_rate: 0.0010\n",
      "Epoch 50/150\n",
      "\u001b[1m40/40\u001b[0m \u001b[32m━━━━━━━━━━━━━━━━━━━━\u001b[0m\u001b[37m\u001b[0m \u001b[1m0s\u001b[0m 5ms/step - accuracy: 0.8373 - loss: 0.7275 - val_accuracy: 0.9125 - val_loss: 0.5357 - learning_rate: 0.0010\n",
      "Epoch 51/150\n",
      "\u001b[1m40/40\u001b[0m \u001b[32m━━━━━━━━━━━━━━━━━━━━\u001b[0m\u001b[37m\u001b[0m \u001b[1m0s\u001b[0m 3ms/step - accuracy: 0.8106 - loss: 0.7213 - val_accuracy: 0.7812 - val_loss: 0.7795 - learning_rate: 0.0010\n",
      "Epoch 52/150\n",
      "\u001b[1m40/40\u001b[0m \u001b[32m━━━━━━━━━━━━━━━━━━━━\u001b[0m\u001b[37m\u001b[0m \u001b[1m0s\u001b[0m 3ms/step - accuracy: 0.8262 - loss: 0.7665 - val_accuracy: 0.8250 - val_loss: 0.6504 - learning_rate: 0.0010\n",
      "Epoch 53/150\n",
      "\u001b[1m40/40\u001b[0m \u001b[32m━━━━━━━━━━━━━━━━━━━━\u001b[0m\u001b[37m\u001b[0m \u001b[1m0s\u001b[0m 3ms/step - accuracy: 0.8296 - loss: 0.6953 - val_accuracy: 0.8687 - val_loss: 0.5588 - learning_rate: 0.0010\n",
      "Epoch 54/150\n",
      "\u001b[1m40/40\u001b[0m \u001b[32m━━━━━━━━━━━━━━━━━━━━\u001b[0m\u001b[37m\u001b[0m \u001b[1m0s\u001b[0m 3ms/step - accuracy: 0.8023 - loss: 0.7606 - val_accuracy: 0.9125 - val_loss: 0.5404 - learning_rate: 0.0010\n",
      "Epoch 55/150\n",
      "\u001b[1m40/40\u001b[0m \u001b[32m━━━━━━━━━━━━━━━━━━━━\u001b[0m\u001b[37m\u001b[0m \u001b[1m0s\u001b[0m 4ms/step - accuracy: 0.8191 - loss: 0.7090 - val_accuracy: 0.9375 - val_loss: 0.5222 - learning_rate: 0.0010\n",
      "Epoch 56/150\n",
      "\u001b[1m40/40\u001b[0m \u001b[32m━━━━━━━━━━━━━━━━━━━━\u001b[0m\u001b[37m\u001b[0m \u001b[1m0s\u001b[0m 3ms/step - accuracy: 0.7863 - loss: 0.7775 - val_accuracy: 0.9062 - val_loss: 0.5251 - learning_rate: 0.0010\n",
      "Epoch 57/150\n",
      "\u001b[1m40/40\u001b[0m \u001b[32m━━━━━━━━━━━━━━━━━━━━\u001b[0m\u001b[37m\u001b[0m \u001b[1m0s\u001b[0m 3ms/step - accuracy: 0.8371 - loss: 0.7168 - val_accuracy: 0.9125 - val_loss: 0.5234 - learning_rate: 0.0010\n",
      "Epoch 58/150\n",
      "\u001b[1m40/40\u001b[0m \u001b[32m━━━━━━━━━━━━━━━━━━━━\u001b[0m\u001b[37m\u001b[0m \u001b[1m0s\u001b[0m 3ms/step - accuracy: 0.8283 - loss: 0.6878 - val_accuracy: 0.8250 - val_loss: 0.6194 - learning_rate: 0.0010\n",
      "Epoch 59/150\n",
      "\u001b[1m40/40\u001b[0m \u001b[32m━━━━━━━━━━━━━━━━━━━━\u001b[0m\u001b[37m\u001b[0m \u001b[1m0s\u001b[0m 3ms/step - accuracy: 0.7872 - loss: 0.6993 - val_accuracy: 0.8062 - val_loss: 0.6682 - learning_rate: 0.0010\n",
      "Epoch 60/150\n",
      "\u001b[1m40/40\u001b[0m \u001b[32m━━━━━━━━━━━━━━━━━━━━\u001b[0m\u001b[37m\u001b[0m \u001b[1m0s\u001b[0m 4ms/step - accuracy: 0.7980 - loss: 0.7096 - val_accuracy: 0.9375 - val_loss: 0.4859 - learning_rate: 0.0010\n",
      "Epoch 61/150\n",
      "\u001b[1m40/40\u001b[0m \u001b[32m━━━━━━━━━━━━━━━━━━━━\u001b[0m\u001b[37m\u001b[0m \u001b[1m0s\u001b[0m 3ms/step - accuracy: 0.8286 - loss: 0.6535 - val_accuracy: 0.9250 - val_loss: 0.4972 - learning_rate: 0.0010\n",
      "Epoch 62/150\n",
      "\u001b[1m40/40\u001b[0m \u001b[32m━━━━━━━━━━━━━━━━━━━━\u001b[0m\u001b[37m\u001b[0m \u001b[1m0s\u001b[0m 3ms/step - accuracy: 0.8196 - loss: 0.7032 - val_accuracy: 0.8813 - val_loss: 0.5524 - learning_rate: 0.0010\n",
      "Epoch 63/150\n",
      "\u001b[1m40/40\u001b[0m \u001b[32m━━━━━━━━━━━━━━━━━━━━\u001b[0m\u001b[37m\u001b[0m \u001b[1m0s\u001b[0m 3ms/step - accuracy: 0.8050 - loss: 0.7074 - val_accuracy: 0.8500 - val_loss: 0.5814 - learning_rate: 0.0010\n",
      "Epoch 64/150\n",
      "\u001b[1m40/40\u001b[0m \u001b[32m━━━━━━━━━━━━━━━━━━━━\u001b[0m\u001b[37m\u001b[0m \u001b[1m0s\u001b[0m 3ms/step - accuracy: 0.8426 - loss: 0.6818 - val_accuracy: 0.9000 - val_loss: 0.5093 - learning_rate: 0.0010\n",
      "Epoch 65/150\n",
      "\u001b[1m40/40\u001b[0m \u001b[32m━━━━━━━━━━━━━━━━━━━━\u001b[0m\u001b[37m\u001b[0m \u001b[1m0s\u001b[0m 4ms/step - accuracy: 0.8459 - loss: 0.6856 - val_accuracy: 0.9375 - val_loss: 0.4768 - learning_rate: 0.0010\n",
      "Epoch 66/150\n",
      "\u001b[1m40/40\u001b[0m \u001b[32m━━━━━━━━━━━━━━━━━━━━\u001b[0m\u001b[37m\u001b[0m \u001b[1m0s\u001b[0m 3ms/step - accuracy: 0.8322 - loss: 0.6571 - val_accuracy: 0.8562 - val_loss: 0.5661 - learning_rate: 0.0010\n",
      "Epoch 67/150\n",
      "\u001b[1m40/40\u001b[0m \u001b[32m━━━━━━━━━━━━━━━━━━━━\u001b[0m\u001b[37m\u001b[0m \u001b[1m0s\u001b[0m 3ms/step - accuracy: 0.8339 - loss: 0.6834 - val_accuracy: 0.8625 - val_loss: 0.5309 - learning_rate: 0.0010\n",
      "Epoch 68/150\n",
      "\u001b[1m40/40\u001b[0m \u001b[32m━━━━━━━━━━━━━━━━━━━━\u001b[0m\u001b[37m\u001b[0m \u001b[1m0s\u001b[0m 3ms/step - accuracy: 0.8209 - loss: 0.6685 - val_accuracy: 0.9062 - val_loss: 0.5061 - learning_rate: 0.0010\n",
      "Epoch 69/150\n",
      "\u001b[1m40/40\u001b[0m \u001b[32m━━━━━━━━━━━━━━━━━━━━\u001b[0m\u001b[37m\u001b[0m \u001b[1m0s\u001b[0m 3ms/step - accuracy: 0.8359 - loss: 0.6179 - val_accuracy: 0.8750 - val_loss: 0.5335 - learning_rate: 0.0010\n",
      "Epoch 70/150\n",
      "\u001b[1m40/40\u001b[0m \u001b[32m━━━━━━━━━━━━━━━━━━━━\u001b[0m\u001b[37m\u001b[0m \u001b[1m0s\u001b[0m 3ms/step - accuracy: 0.8067 - loss: 0.7329 - val_accuracy: 0.8875 - val_loss: 0.5036 - learning_rate: 0.0010\n",
      "Epoch 71/150\n",
      "\u001b[1m40/40\u001b[0m \u001b[32m━━━━━━━━━━━━━━━━━━━━\u001b[0m\u001b[37m\u001b[0m \u001b[1m0s\u001b[0m 4ms/step - accuracy: 0.8318 - loss: 0.6416 - val_accuracy: 0.8375 - val_loss: 0.5726 - learning_rate: 0.0010\n",
      "Epoch 72/150\n",
      "\u001b[1m40/40\u001b[0m \u001b[32m━━━━━━━━━━━━━━━━━━━━\u001b[0m\u001b[37m\u001b[0m \u001b[1m0s\u001b[0m 3ms/step - accuracy: 0.8221 - loss: 0.6872 - val_accuracy: 0.9062 - val_loss: 0.4826 - learning_rate: 0.0010\n",
      "Epoch 73/150\n",
      "\u001b[1m40/40\u001b[0m \u001b[32m━━━━━━━━━━━━━━━━━━━━\u001b[0m\u001b[37m\u001b[0m \u001b[1m0s\u001b[0m 3ms/step - accuracy: 0.8088 - loss: 0.6676 - val_accuracy: 0.8938 - val_loss: 0.4865 - learning_rate: 0.0010\n",
      "Epoch 74/150\n",
      "\u001b[1m40/40\u001b[0m \u001b[32m━━━━━━━━━━━━━━━━━━━━\u001b[0m\u001b[37m\u001b[0m \u001b[1m0s\u001b[0m 4ms/step - accuracy: 0.8014 - loss: 0.6987 - val_accuracy: 0.9375 - val_loss: 0.4653 - learning_rate: 0.0010\n",
      "Epoch 75/150\n",
      "\u001b[1m40/40\u001b[0m \u001b[32m━━━━━━━━━━━━━━━━━━━━\u001b[0m\u001b[37m\u001b[0m \u001b[1m0s\u001b[0m 3ms/step - accuracy: 0.8212 - loss: 0.6816 - val_accuracy: 0.8875 - val_loss: 0.5055 - learning_rate: 0.0010\n",
      "Epoch 76/150\n",
      "\u001b[1m40/40\u001b[0m \u001b[32m━━━━━━━━━━━━━━━━━━━━\u001b[0m\u001b[37m\u001b[0m \u001b[1m0s\u001b[0m 4ms/step - accuracy: 0.8310 - loss: 0.6227 - val_accuracy: 0.9062 - val_loss: 0.4831 - learning_rate: 0.0010\n",
      "Epoch 77/150\n",
      "\u001b[1m40/40\u001b[0m \u001b[32m━━━━━━━━━━━━━━━━━━━━\u001b[0m\u001b[37m\u001b[0m \u001b[1m0s\u001b[0m 4ms/step - accuracy: 0.8447 - loss: 0.6258 - val_accuracy: 0.9250 - val_loss: 0.4651 - learning_rate: 0.0010\n",
      "Epoch 78/150\n",
      "\u001b[1m40/40\u001b[0m \u001b[32m━━━━━━━━━━━━━━━━━━━━\u001b[0m\u001b[37m\u001b[0m \u001b[1m0s\u001b[0m 3ms/step - accuracy: 0.8284 - loss: 0.6559 - val_accuracy: 0.9187 - val_loss: 0.4834 - learning_rate: 0.0010\n",
      "Epoch 79/150\n",
      "\u001b[1m40/40\u001b[0m \u001b[32m━━━━━━━━━━━━━━━━━━━━\u001b[0m\u001b[37m\u001b[0m \u001b[1m0s\u001b[0m 3ms/step - accuracy: 0.8539 - loss: 0.5828 - val_accuracy: 0.8813 - val_loss: 0.5081 - learning_rate: 0.0010\n",
      "Epoch 80/150\n",
      "\u001b[1m40/40\u001b[0m \u001b[32m━━━━━━━━━━━━━━━━━━━━\u001b[0m\u001b[37m\u001b[0m \u001b[1m0s\u001b[0m 3ms/step - accuracy: 0.8033 - loss: 0.6934 - val_accuracy: 0.9250 - val_loss: 0.4694 - learning_rate: 0.0010\n",
      "Epoch 81/150\n",
      "\u001b[1m40/40\u001b[0m \u001b[32m━━━━━━━━━━━━━━━━━━━━\u001b[0m\u001b[37m\u001b[0m \u001b[1m0s\u001b[0m 3ms/step - accuracy: 0.8260 - loss: 0.6412 - val_accuracy: 0.8125 - val_loss: 0.6185 - learning_rate: 0.0010\n",
      "Epoch 82/150\n",
      "\u001b[1m40/40\u001b[0m \u001b[32m━━━━━━━━━━━━━━━━━━━━\u001b[0m\u001b[37m\u001b[0m \u001b[1m0s\u001b[0m 3ms/step - accuracy: 0.8797 - loss: 0.5413 - val_accuracy: 0.9000 - val_loss: 0.4672 - learning_rate: 0.0010\n",
      "Epoch 83/150\n",
      "\u001b[1m40/40\u001b[0m \u001b[32m━━━━━━━━━━━━━━━━━━━━\u001b[0m\u001b[37m\u001b[0m \u001b[1m0s\u001b[0m 3ms/step - accuracy: 0.8173 - loss: 0.6604 - val_accuracy: 0.8813 - val_loss: 0.4912 - learning_rate: 0.0010\n",
      "Epoch 84/150\n",
      "\u001b[1m40/40\u001b[0m \u001b[32m━━━━━━━━━━━━━━━━━━━━\u001b[0m\u001b[37m\u001b[0m \u001b[1m0s\u001b[0m 3ms/step - accuracy: 0.8214 - loss: 0.6860 - val_accuracy: 0.8438 - val_loss: 0.5462 - learning_rate: 0.0010\n",
      "Epoch 85/150\n",
      "\u001b[1m40/40\u001b[0m \u001b[32m━━━━━━━━━━━━━━━━━━━━\u001b[0m\u001b[37m\u001b[0m \u001b[1m0s\u001b[0m 3ms/step - accuracy: 0.8230 - loss: 0.6434 - val_accuracy: 0.8750 - val_loss: 0.5201 - learning_rate: 0.0010\n",
      "Epoch 86/150\n",
      "\u001b[1m40/40\u001b[0m \u001b[32m━━━━━━━━━━━━━━━━━━━━\u001b[0m\u001b[37m\u001b[0m \u001b[1m0s\u001b[0m 3ms/step - accuracy: 0.8804 - loss: 0.5453 - val_accuracy: 0.9062 - val_loss: 0.4672 - learning_rate: 0.0010\n",
      "Epoch 87/150\n",
      "\u001b[1m40/40\u001b[0m \u001b[32m━━━━━━━━━━━━━━━━━━━━\u001b[0m\u001b[37m\u001b[0m \u001b[1m0s\u001b[0m 3ms/step - accuracy: 0.8220 - loss: 0.6544 - val_accuracy: 0.8813 - val_loss: 0.5081 - learning_rate: 0.0010\n"
     ]
    }
   ],
   "source": [
    "# Callbacks\n",
    "early_stoping = EarlyStopping(monitor='val_loss', patience=10, restore_best_weights=True)\n",
    "model_checkpoint = ModelCheckpoint('best_model.keras', save_best_only=True, monitor='val_loss')\n",
    "\n",
    "# Define learning rate sheduler\n",
    "def lr_shedule(epoch, lr):\n",
    "    if epoch > 150:\n",
    "        lr = lr *0.1\n",
    "    elif epoch > 100:\n",
    "        lr = lr * 0.5\n",
    "    \n",
    "    return lr\n",
    "\n",
    "lr_sheduler = LearningRateScheduler(lr_shedule)\n",
    "\n",
    "history = model.fit(trainX, trainY_encoded,\n",
    "                    epochs=150, batch_size=16,\n",
    "                    validation_split=0.2, \n",
    "                    verbose=1,\n",
    "                    callbacks=[early_stoping, model_checkpoint, lr_sheduler])"
   ]
  },
  {
   "cell_type": "code",
   "execution_count": 128,
   "metadata": {
    "datalore": {
     "hide_input_from_viewers": true,
     "hide_output_from_viewers": true,
     "node_id": "idySmn8XFJTfr7QcEMvvLN",
     "type": "CODE"
    }
   },
   "outputs": [
    {
     "name": "stdout",
     "output_type": "stream",
     "text": [
      "\u001b[1m7/7\u001b[0m \u001b[32m━━━━━━━━━━━━━━━━━━━━\u001b[0m\u001b[37m\u001b[0m \u001b[1m0s\u001b[0m 2ms/step - accuracy: 0.8323 - loss: 0.6619  \n",
      "Expanded Model Test Loss: 62.26%\n",
      "Expanded Model Test Accuracy: 85.50%\n"
     ]
    }
   ],
   "source": [
    "test_loss, test_accuracy = model.evaluate(testX, testY_encoded, verbose=1)\n",
    "\n",
    "print(f\"Expanded Model Test Loss: {test_loss*100:.2f}%\")\n",
    "print(f\"Expanded Model Test Accuracy: {test_accuracy*100:.2f}%\")"
   ]
  },
  {
   "cell_type": "code",
   "execution_count": 129,
   "metadata": {},
   "outputs": [
    {
     "name": "stdout",
     "output_type": "stream",
     "text": [
      "DNN model saved as DNN_model.pkl\n"
     ]
    }
   ],
   "source": [
    "if test_accuracy > 0.80:\n",
    "    dnn_modelName = './Models/DNN_model.pkl'\n",
    "    with open (dnn_modelName, 'wb') as f:\n",
    "        pickle.dump(model, f)\n",
    "    \n",
    "    print(f\"DNN model saved as DNN_model.pkl\")"
   ]
  },
  {
   "cell_type": "code",
   "execution_count": 130,
   "metadata": {
    "datalore": {
     "hide_input_from_viewers": true,
     "hide_output_from_viewers": true,
     "node_id": "q8o6k4qyCvxe5q8QwTbEQb",
     "type": "CODE"
    }
   },
   "outputs": [
    {
     "data": {
      "image/png": "[encoded data removed]",
      "text/plain": [
       "<Figure size 640x480 with 1 Axes>"
      ]
     },
     "metadata": {},
     "output_type": "display_data"
    }
   ],
   "source": [
    "# Plot training & val accuracy values for the expanded model\n",
    "plt.plot(history.history['accuracy'])\n",
    "plt.plot(history.history['val_accuracy'])\n",
    "plt.title(\"Expanded Model Accuracy\")\n",
    "plt.xlabel(\"Epoch\")\n",
    "plt.ylabel(\"Accuracy\")\n",
    "plt.legend([\"Train\", \"Validation\"], loc='upper left')\n",
    "plt.show()"
   ]
  },
  {
   "cell_type": "code",
   "execution_count": 131,
   "metadata": {
    "datalore": {
     "hide_input_from_viewers": true,
     "hide_output_from_viewers": true,
     "node_id": "BMzGPSwLsBOFLnLkyqN3e0",
     "type": "CODE"
    }
   },
   "outputs": [
    {
     "data": {
      "image/png": "[encoded data removed]",
      "text/plain": [
       "<Figure size 640x480 with 1 Axes>"
      ]
     },
     "metadata": {},
     "output_type": "display_data"
    }
   ],
   "source": [
    "plt.plot(history.history['loss'])\n",
    "plt.plot(history.history['val_loss'])\n",
    "plt.title(\"Expanded Model Loss\")\n",
    "plt.xlabel(\"Epoch\")\n",
    "plt.ylabel(\"Loss\")\n",
    "plt.legend([\"Train\", \"Validation\"], loc=\"upper left\")\n",
    "plt.show()"
   ]
  }
 ],
 "metadata": {
  "datalore": {
   "base_environment": "default",
   "computation_mode": "JUPYTER",
   "package_manager": "pip",
   "packages": [],
   "report_row_ids": [
    "8hf9X8yV2OHEsOsLZ1pJYl",
    "pmNPnAls3Rx3HiHtTzi5Wl",
    "ZPegmwf4IxbqckOaWY1nxw",
    "On8BsFZxJbl3XkOBCK1DtF",
    "WbLM2nI5TIleNaxuLsXyJz",
    "80796LaZsye8QfIENeL8hP",
    "hTu8oljD5sb8DP6ArDR0eF",
    "oL6IfILlvWQCSZSuqZ45rm",
    "ZqYJqfsJOh9r5WLV9X23Q9",
    "pG6xeVJ0K7HJluKICKLHUu",
    "ds4N1tZ9kBK9f3j1WsTQMU",
    "ybO0D4WK5pLPsE9UNdFEP1",
    "N1QUZDceXKLLWlH1QSe56L",
    "yCJrYu521hHwFiXl12v0md",
    "4wr6mPInyXQHE14f872hqD",
    "1FUMWvAj0wJJbZI9HZYFig",
    "GvVCPOJ8XEnYI4nMr1y7m4",
    "rn8HgPh2gBompYd8p4DCJ1",
    "TCLdpu0kCOoKFmw2BHPPti",
    "kOwlhWfNfFmBPaA8CDkUEt",
    "p3V9ityOwU7PAVectsFjlC",
    "p9Ctvw0BXoBQCxsWbuOIwb",
    "plOkoPPkIHe7hQdNiJVEbg",
    "aBtuEdRDvq0JUcXbNzK7Nq",
    "H8V7ZyKKRf83K0sSqsXUsC",
    "vAMdqGxUaC0SHdYhHKjPJT",
    "PuBDNuv6O1ntWxrfMJ2thY",
    "RoS5iqjSpsejQCFIP6p0m2",
    "TqI6e4si06ThgbPRzCJfhx",
    "2MNC7cnn4Dhwxh5KrOnhIH",
    "ylxF8vAhDjLs8Gcx0B5edg",
    "X1hVEEYpsqNqzW6ZvpC0ih",
    "HTsi8Exz8A1le5cNK1mMS5",
    "eYC1xGU72fMaRMggP6TsZ6",
    "xN3RD5fadJOYPgjvODjNCV",
    "xGwWh5JT7ytKrDIaPISotv",
    "AiujsGeVqOrWIfw6SEgQ8W",
    "64eieJDJcMxt2sezHA6cBW"
   ],
   "version": 3
  },
  "kernelspec": {
   "display_name": "base",
   "language": "python",
   "name": "python3"
  },
  "language_info": {
   "codemirror_mode": {
    "name": "ipython",
    "version": 3
   },
   "file_extension": ".py",
   "mimetype": "text/x-python",
   "name": "python",
   "nbconvert_exporter": "python",
   "pygments_lexer": "ipython3",
   "version": "3.11.7"
  }
 },
 "nbformat": 4,
 "nbformat_minor": 4
}
